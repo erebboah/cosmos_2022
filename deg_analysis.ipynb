{
 "cells": [
  {
   "cell_type": "markdown",
   "id": "a6723421-7865-4b19-b54d-304a33fa7c6f",
   "metadata": {},
   "source": [
    "# Differential expression analysis\n",
    "\n",
    "Differential gene expression analysis is a statistical method to identify genes that are upregulated or downregulated between different conditions or samples, in other words \"differentially expressed\". \n",
    "\n",
    "For example, we may expect inflammatory genes to be more highly expressed, or upregulated, in macrophages treated with a bacterial toxin. Another example could be the downregulation, or decrease in expression, of Pax7 during differentiation from myoblasts to myotubes, like in C2C12 cells.\n"
   ]
  },
  {
   "cell_type": "code",
   "execution_count": 1,
   "id": "43e1b718-0d54-4214-9733-3de474c0d58b",
   "metadata": {},
   "outputs": [
    {
     "name": "stderr",
     "output_type": "stream",
     "text": [
      "<frozen importlib._bootstrap>:219: RuntimeWarning: scipy._lib.messagestream.MessageStream size changed, may indicate binary incompatibility. Expected 56 from C header, got 64 from PyObject\n"
     ]
    }
   ],
   "source": [
    "# Load some libraries\n",
    "import os\n",
    "from pydeseq2.dds import DeseqDataSet\n",
    "from pydeseq2.ds import DeseqStats\n",
    "import pandas as pd\n",
    "import numpy as np\n"
   ]
  },
  {
   "cell_type": "code",
   "execution_count": 2,
   "id": "44881b2a-2406-4517-b551-93287d9aa2db",
   "metadata": {},
   "outputs": [],
   "source": [
    "# Read in metadata file; only really care about certain columns for plotting purposes\n",
    "metadata = pd.read_csv(\"/data/class/cosmos2023/PUBLIC/ta-github/data/fshd_metadata.csv\", \n",
    "                       usecols=['Run', 'Sample', 'Individual', 'fshd_status', 'day_of_differentiation'])"
   ]
  },
  {
   "cell_type": "markdown",
   "id": "06af61d7-8a67-490f-a30a-edcc76cacdf3",
   "metadata": {},
   "source": [
    "# Construct data frame\n",
    "\n",
    "Most DEG software tools require non-normalized (raw) counts as input. We were working with the normalized matrix for plotting PCA and heatmaps, but need to construct the counts matrix. This is the same code as in `python_analysis.ipynb`, except we extract the `est_counts` column rather than `tpm` and use unique `gene_id` rather than `gene_name`."
   ]
  },
  {
   "cell_type": "code",
   "execution_count": 3,
   "id": "2c95fcbf-0db2-4667-a490-44858d035726",
   "metadata": {},
   "outputs": [],
   "source": [
    "# Directory containing the output folders \n",
    "output_dir = '../kallisto_output'\n",
    "\n",
    "# List to store individual dataframes\n",
    "dfs = []\n"
   ]
  },
  {
   "cell_type": "code",
   "execution_count": 4,
   "id": "471d4d71-3687-48cf-94ff-7313bfe51661",
   "metadata": {},
   "outputs": [],
   "source": [
    "# Loop through each folder in the output directory\n",
    "for folder in os.listdir(output_dir):\n",
    "    folder_path = os.path.join(output_dir, folder)\n",
    "    file_path = os.path.join(folder_path, 'gene_abundance.tsv')\n",
    "\n",
    "    # Read gene_abundance.tsv as a dataframe\n",
    "    df = pd.read_csv(file_path, sep ='\\t')\n",
    "    counts_col = df['est_counts']  # Extract counts column\n",
    "    dfs.append(counts_col) # Add gene expression measurements from each sample to a growing list\n",
    "    \n",
    "# Create a dataframe from the list of measurements from all the samples\n",
    "merged_df = pd.concat(dfs, axis=1)\n",
    "merged_df.columns = os.listdir(output_dir)  # Assign sample names as column names\n",
    "\n",
    "# Create a dictionary mapping Run to Sample from the metadata\n",
    "column_mapping = dict(zip(metadata['Run'], metadata['Sample']))\n",
    "\n",
    "# Rename the columns using the mapping\n",
    "merged_df.rename(columns=column_mapping, inplace=True)\n",
    "\n",
    "# Reorder columns (not necessary, just makes it nicer to look at)\n",
    "column_order = ['Control-1 Day 3 Rep 1', 'Control-1 Day 3 Rep 2', \n",
    "                'Control-1 Day 5 Rep 1', 'Control-1 Day 5 Rep 2', \n",
    "                'FSHD2-1 Day 3 Rep 1', 'FSHD2-1 Day 3 Rep 2', \n",
    "                'FSHD2-1 Day 5 Rep 1', 'FSHD2-1 Day 5 Rep 2']\n",
    "merged_df = merged_df.reindex(columns=column_order)\n",
    "\n",
    "# Set index (like row names) to be the gene id\n",
    "merged_df = merged_df.set_index(df['gene_id'])\n",
    "\n",
    "# drop unexpressed genes\n",
    "merged_df = merged_df.loc[merged_df.sum(axis=1) != 0]\n",
    "\n",
    "# Write the merged dataframe to a new file\n",
    "merged_df.to_csv('data/counts_matrix.tsv', sep='\\t', index=False)\n"
   ]
  },
  {
   "cell_type": "markdown",
   "id": "b70d7def-539f-45f8-acd9-b68fc7af6eaf",
   "metadata": {},
   "source": [
    "# Format metadata \n",
    "Rows of metadata must exactly match the columns in the final dataframe."
   ]
  },
  {
   "cell_type": "code",
   "execution_count": 5,
   "id": "e79dd4ff-d3b9-4896-925b-e10ab1f8ddc2",
   "metadata": {},
   "outputs": [],
   "source": [
    "# Filter metadata DataFrame based on matching samples in merged_df\n",
    "metadata_filtered = metadata[metadata['Sample'].isin(merged_df.columns)].copy()\n",
    "\n",
    "# Sort filtered_metadata based on the order of columns in merged_df\n",
    "metadata_filtered['Sample'] = pd.Categorical(metadata_filtered['Sample'], categories=merged_df.columns)\n",
    "metadata_filtered.sort_values('Sample', inplace=True)\n"
   ]
  },
  {
   "cell_type": "markdown",
   "id": "c2d007b3-e623-4326-bd8f-cad7cc84f291",
   "metadata": {},
   "source": [
    "# Define filters and group\n",
    "\n",
    "To perform DEG analysis, you must choose a condition to test. For example, control vs. FSHD, or one timepoint vs. another. Here, I'm testing Control Day 3 vs. Day 5 cells."
   ]
  },
  {
   "cell_type": "code",
   "execution_count": 6,
   "id": "f4c753b6-86ef-4fc1-9563-89ff975679ca",
   "metadata": {},
   "outputs": [],
   "source": [
    "filtering = {'fshd_status': ['Control'], #,'FSHD2'],\n",
    "             'day_of_differentiation': ['Day 3', 'Day 5']\n",
    "            }\n",
    "group = 'day_of_differentiation' # change to the group you're interested in making the comparison in\n"
   ]
  },
  {
   "cell_type": "code",
   "execution_count": 15,
   "id": "dadd88bc-5a98-47c4-9f74-00531b84fa67",
   "metadata": {},
   "outputs": [],
   "source": [
    "metadata_selected = metadata_filtered.copy(deep=True)\n",
    "for col in filtering.keys():\n",
    "    metadata_selected = metadata_selected[metadata_selected[col].isin(filtering[col])]\n",
    "\n",
    "metadata_selected.index = metadata_selected['Sample']\n",
    "merged_df_selected = merged_df.loc[:, metadata_selected['Sample']]\n",
    "merged_df_selected[merged_df_selected.columns] = merged_df_selected[merged_df_selected.columns].astype(int)\n",
    "\n"
   ]
  },
  {
   "cell_type": "code",
   "execution_count": 17,
   "id": "4d0336a2-d912-4435-8909-c533f05c56e9",
   "metadata": {},
   "outputs": [
    {
     "data": {
      "text/html": [
       "<div>\n",
       "<style scoped>\n",
       "    .dataframe tbody tr th:only-of-type {\n",
       "        vertical-align: middle;\n",
       "    }\n",
       "\n",
       "    .dataframe tbody tr th {\n",
       "        vertical-align: top;\n",
       "    }\n",
       "\n",
       "    .dataframe thead th {\n",
       "        text-align: right;\n",
       "    }\n",
       "</style>\n",
       "<table border=\"1\" class=\"dataframe\">\n",
       "  <thead>\n",
       "    <tr style=\"text-align: right;\">\n",
       "      <th></th>\n",
       "      <th>Run</th>\n",
       "      <th>day_of_differentiation</th>\n",
       "      <th>fshd_status</th>\n",
       "      <th>Sample</th>\n",
       "      <th>Individual</th>\n",
       "    </tr>\n",
       "    <tr>\n",
       "      <th>Sample</th>\n",
       "      <th></th>\n",
       "      <th></th>\n",
       "      <th></th>\n",
       "      <th></th>\n",
       "      <th></th>\n",
       "    </tr>\n",
       "  </thead>\n",
       "  <tbody>\n",
       "    <tr>\n",
       "      <th>Control-1 Day 3 Rep 1</th>\n",
       "      <td>SRR10870729</td>\n",
       "      <td>Day 3</td>\n",
       "      <td>Control</td>\n",
       "      <td>Control-1 Day 3 Rep 1</td>\n",
       "      <td>Control-1</td>\n",
       "    </tr>\n",
       "    <tr>\n",
       "      <th>Control-1 Day 3 Rep 2</th>\n",
       "      <td>SRR10870730</td>\n",
       "      <td>Day 3</td>\n",
       "      <td>Control</td>\n",
       "      <td>Control-1 Day 3 Rep 2</td>\n",
       "      <td>Control-1</td>\n",
       "    </tr>\n",
       "    <tr>\n",
       "      <th>Control-1 Day 5 Rep 1</th>\n",
       "      <td>SRR10870733</td>\n",
       "      <td>Day 5</td>\n",
       "      <td>Control</td>\n",
       "      <td>Control-1 Day 5 Rep 1</td>\n",
       "      <td>Control-1</td>\n",
       "    </tr>\n",
       "    <tr>\n",
       "      <th>Control-1 Day 5 Rep 2</th>\n",
       "      <td>SRR10870734</td>\n",
       "      <td>Day 5</td>\n",
       "      <td>Control</td>\n",
       "      <td>Control-1 Day 5 Rep 2</td>\n",
       "      <td>Control-1</td>\n",
       "    </tr>\n",
       "  </tbody>\n",
       "</table>\n",
       "</div>"
      ],
      "text/plain": [
       "                               Run day_of_differentiation fshd_status  \\\n",
       "Sample                                                                  \n",
       "Control-1 Day 3 Rep 1  SRR10870729                  Day 3     Control   \n",
       "Control-1 Day 3 Rep 2  SRR10870730                  Day 3     Control   \n",
       "Control-1 Day 5 Rep 1  SRR10870733                  Day 5     Control   \n",
       "Control-1 Day 5 Rep 2  SRR10870734                  Day 5     Control   \n",
       "\n",
       "                                      Sample Individual  \n",
       "Sample                                                   \n",
       "Control-1 Day 3 Rep 1  Control-1 Day 3 Rep 1  Control-1  \n",
       "Control-1 Day 3 Rep 2  Control-1 Day 3 Rep 2  Control-1  \n",
       "Control-1 Day 5 Rep 1  Control-1 Day 5 Rep 1  Control-1  \n",
       "Control-1 Day 5 Rep 2  Control-1 Day 5 Rep 2  Control-1  "
      ]
     },
     "execution_count": 17,
     "metadata": {},
     "output_type": "execute_result"
    }
   ],
   "source": [
    "metadata_selected"
   ]
  },
  {
   "cell_type": "markdown",
   "id": "c01ea889-929b-4b76-805b-27ae02fda866",
   "metadata": {},
   "source": [
    "# Run PyDESeq2"
   ]
  },
  {
   "cell_type": "markdown",
   "id": "1dd87986-1782-416f-800f-ff7175c72fec",
   "metadata": {},
   "source": [
    "The output of this method is a list of genes with associated statistical measurements such as fold change and p-value. \n",
    "\n",
    "Imagine the average expression of Pax7 in myoblasts (MB) is 100 TPM and in myotubes (MT) it's 1.5 TPM. To calculate the fold change in MT vs. MB, divide the average expression in MT by the average expression in MB: 1.5 TPM ÷ 100 TPM = 0.015.\n",
    "\n",
    "The fold change is log2-transformed for plotting purposes. Any fold change less than 0 results in a negative log fold change. For example, log2(0.015) = -6.\n",
    "\n",
    "A p-value is basically a measure that tells us how likely an observed result occurred by chance alone. If the p-value is low (e.g., less than 0.05), it suggests that the result is unlikely to have occurred by chance. On the other hand, if the p-value is high (e.g., greater than 0.05), it suggests that the observed result could have reasonably occurred by chance alone.\n",
    "\n",
    "p-values are also often log-transformed for plotting purposes, but since they can be very small, we transform them by -log10. For example, a p-value of 0.00001 is transformed by -log10(0.00001) = 5. "
   ]
  },
  {
   "cell_type": "code",
   "execution_count": 18,
   "id": "84ab0ecc-aaba-414c-82de-4e38e3c51393",
   "metadata": {},
   "outputs": [
    {
     "name": "stdout",
     "output_type": "stream",
     "text": [
      "Fitting size factors...\n",
      "... done in 0.00 seconds.\n",
      "\n",
      "Fitting dispersions...\n",
      "... done in 37.78 seconds.\n",
      "\n",
      "Fitting dispersion trend curve...\n",
      "... done in 17.56 seconds.\n",
      "\n",
      "Fitting MAP dispersions...\n",
      "... done in 29.27 seconds.\n",
      "\n",
      "Fitting LFCs...\n",
      "... done in 4.75 seconds.\n",
      "\n",
      "Refitting 0 outliers.\n",
      "\n",
      "Running Wald tests...\n",
      "... done in 3.54 seconds.\n",
      "\n",
      "Log2 fold change & Wald test p-value: day_of_differentiation Day 3 vs Day 5\n"
     ]
    },
    {
     "data": {
      "text/html": [
       "<div>\n",
       "<style scoped>\n",
       "    .dataframe tbody tr th:only-of-type {\n",
       "        vertical-align: middle;\n",
       "    }\n",
       "\n",
       "    .dataframe tbody tr th {\n",
       "        vertical-align: top;\n",
       "    }\n",
       "\n",
       "    .dataframe thead th {\n",
       "        text-align: right;\n",
       "    }\n",
       "</style>\n",
       "<table border=\"1\" class=\"dataframe\">\n",
       "  <thead>\n",
       "    <tr style=\"text-align: right;\">\n",
       "      <th></th>\n",
       "      <th>baseMean</th>\n",
       "      <th>log2FoldChange</th>\n",
       "      <th>lfcSE</th>\n",
       "      <th>stat</th>\n",
       "      <th>pvalue</th>\n",
       "      <th>padj</th>\n",
       "    </tr>\n",
       "    <tr>\n",
       "      <th>gene_id</th>\n",
       "      <th></th>\n",
       "      <th></th>\n",
       "      <th></th>\n",
       "      <th></th>\n",
       "      <th></th>\n",
       "      <th></th>\n",
       "    </tr>\n",
       "  </thead>\n",
       "  <tbody>\n",
       "    <tr>\n",
       "      <th>ENSG00000223972.5</th>\n",
       "      <td>2.081473</td>\n",
       "      <td>-0.910079</td>\n",
       "      <td>1.891332</td>\n",
       "      <td>-0.481184</td>\n",
       "      <td>0.630386</td>\n",
       "      <td>NaN</td>\n",
       "    </tr>\n",
       "    <tr>\n",
       "      <th>ENSG00000227232.5</th>\n",
       "      <td>20.101891</td>\n",
       "      <td>-0.290715</td>\n",
       "      <td>0.582639</td>\n",
       "      <td>-0.498963</td>\n",
       "      <td>0.617806</td>\n",
       "      <td>0.774913</td>\n",
       "    </tr>\n",
       "    <tr>\n",
       "      <th>ENSG00000233750.3</th>\n",
       "      <td>38.429230</td>\n",
       "      <td>-0.227524</td>\n",
       "      <td>0.418646</td>\n",
       "      <td>-0.543476</td>\n",
       "      <td>0.586802</td>\n",
       "      <td>0.750883</td>\n",
       "    </tr>\n",
       "    <tr>\n",
       "      <th>ENSG00000268903.1</th>\n",
       "      <td>0.970093</td>\n",
       "      <td>-0.290027</td>\n",
       "      <td>3.173542</td>\n",
       "      <td>-0.091389</td>\n",
       "      <td>0.927184</td>\n",
       "      <td>NaN</td>\n",
       "    </tr>\n",
       "    <tr>\n",
       "      <th>ENSG00000269981.1</th>\n",
       "      <td>0.268263</td>\n",
       "      <td>-1.667682</td>\n",
       "      <td>5.343856</td>\n",
       "      <td>-0.312075</td>\n",
       "      <td>0.754984</td>\n",
       "      <td>NaN</td>\n",
       "    </tr>\n",
       "    <tr>\n",
       "      <th>...</th>\n",
       "      <td>...</td>\n",
       "      <td>...</td>\n",
       "      <td>...</td>\n",
       "      <td>...</td>\n",
       "      <td>...</td>\n",
       "      <td>...</td>\n",
       "    </tr>\n",
       "    <tr>\n",
       "      <th>ENSG00000277196.4</th>\n",
       "      <td>6.135505</td>\n",
       "      <td>-4.692156</td>\n",
       "      <td>1.715515</td>\n",
       "      <td>-2.735129</td>\n",
       "      <td>0.006236</td>\n",
       "      <td>0.022399</td>\n",
       "    </tr>\n",
       "    <tr>\n",
       "      <th>ENSG00000278384.1</th>\n",
       "      <td>3.509186</td>\n",
       "      <td>-0.659081</td>\n",
       "      <td>1.348648</td>\n",
       "      <td>-0.488698</td>\n",
       "      <td>0.625055</td>\n",
       "      <td>NaN</td>\n",
       "    </tr>\n",
       "    <tr>\n",
       "      <th>ENSG00000276345.1</th>\n",
       "      <td>0.000000</td>\n",
       "      <td>NaN</td>\n",
       "      <td>NaN</td>\n",
       "      <td>NaN</td>\n",
       "      <td>NaN</td>\n",
       "      <td>NaN</td>\n",
       "    </tr>\n",
       "    <tr>\n",
       "      <th>ENSG00000271254.6</th>\n",
       "      <td>121.988075</td>\n",
       "      <td>0.587649</td>\n",
       "      <td>0.254471</td>\n",
       "      <td>2.309294</td>\n",
       "      <td>0.020927</td>\n",
       "      <td>0.062365</td>\n",
       "    </tr>\n",
       "    <tr>\n",
       "      <th>ENSG00000277475.1</th>\n",
       "      <td>1.192133</td>\n",
       "      <td>1.773379</td>\n",
       "      <td>2.495229</td>\n",
       "      <td>0.710708</td>\n",
       "      <td>0.477265</td>\n",
       "      <td>NaN</td>\n",
       "    </tr>\n",
       "  </tbody>\n",
       "</table>\n",
       "<p>25075 rows × 6 columns</p>\n",
       "</div>"
      ],
      "text/plain": [
       "                     baseMean  log2FoldChange     lfcSE      stat    pvalue  \\\n",
       "gene_id                                                                       \n",
       "ENSG00000223972.5    2.081473       -0.910079  1.891332 -0.481184  0.630386   \n",
       "ENSG00000227232.5   20.101891       -0.290715  0.582639 -0.498963  0.617806   \n",
       "ENSG00000233750.3   38.429230       -0.227524  0.418646 -0.543476  0.586802   \n",
       "ENSG00000268903.1    0.970093       -0.290027  3.173542 -0.091389  0.927184   \n",
       "ENSG00000269981.1    0.268263       -1.667682  5.343856 -0.312075  0.754984   \n",
       "...                       ...             ...       ...       ...       ...   \n",
       "ENSG00000277196.4    6.135505       -4.692156  1.715515 -2.735129  0.006236   \n",
       "ENSG00000278384.1    3.509186       -0.659081  1.348648 -0.488698  0.625055   \n",
       "ENSG00000276345.1    0.000000             NaN       NaN       NaN       NaN   \n",
       "ENSG00000271254.6  121.988075        0.587649  0.254471  2.309294  0.020927   \n",
       "ENSG00000277475.1    1.192133        1.773379  2.495229  0.710708  0.477265   \n",
       "\n",
       "                       padj  \n",
       "gene_id                      \n",
       "ENSG00000223972.5       NaN  \n",
       "ENSG00000227232.5  0.774913  \n",
       "ENSG00000233750.3  0.750883  \n",
       "ENSG00000268903.1       NaN  \n",
       "ENSG00000269981.1       NaN  \n",
       "...                     ...  \n",
       "ENSG00000277196.4  0.022399  \n",
       "ENSG00000278384.1       NaN  \n",
       "ENSG00000276345.1       NaN  \n",
       "ENSG00000271254.6  0.062365  \n",
       "ENSG00000277475.1       NaN  \n",
       "\n",
       "[25075 rows x 6 columns]"
      ]
     },
     "metadata": {},
     "output_type": "display_data"
    }
   ],
   "source": [
    "dds = DeseqDataSet(\n",
    "    counts=merged_df_selected.T,\n",
    "    clinical=metadata_selected,\n",
    "    design_factors=group,\n",
    "    refit_cooks=True,\n",
    "    n_cpus=8,\n",
    ")\n",
    "dds.deseq2()\n",
    "stat_res = DeseqStats(dds, \n",
    "                      contrast=[group] + filtering[group], \n",
    "                      n_cpus=8)\n",
    "stat_res.summary()"
   ]
  },
  {
   "cell_type": "markdown",
   "id": "0c85ec75-513c-4b49-a430-c5214d98f373",
   "metadata": {},
   "source": [
    "# Set cutoffs to display on plot\n"
   ]
  },
  {
   "cell_type": "code",
   "execution_count": 22,
   "id": "f45b4a14-1f6c-4b5d-8395-a94b45d38120",
   "metadata": {},
   "outputs": [],
   "source": [
    "l2fc = 1 # Log 2 fold change; usually 0.5 - 2\n",
    "pval = 0.01 # 0.01 is even \"better\" than 0.05\n"
   ]
  },
  {
   "cell_type": "markdown",
   "id": "09861e87-f6cb-44d4-97b0-ab3c833ed202",
   "metadata": {},
   "source": [
    "# Format results"
   ]
  },
  {
   "cell_type": "code",
   "execution_count": 23,
   "id": "244b3207-6c48-4729-9e84-4be747342ba7",
   "metadata": {},
   "outputs": [],
   "source": [
    "annot = pd.read_csv(\"../ref/homo_sapiens/transcripts_to_genes.txt\",sep=\"\\t\",header=None)\n",
    "annot = pd.read_csv(\"../ref/homo_sapiens/transcripts_to_genes.txt\",sep=\"\\t\",\n",
    "                    header=None,names=['transcript_id', 'gene_id', 'gene_name'])\n",
    "\n",
    "annot = annot[[\"gene_id\", \"gene_name\"]]\n",
    "annot = annot.drop_duplicates()\n"
   ]
  },
  {
   "cell_type": "code",
   "execution_count": 24,
   "id": "94ac8bb7-101d-4e76-8ac0-2f3beb126c34",
   "metadata": {},
   "outputs": [
    {
     "name": "stderr",
     "output_type": "stream",
     "text": [
      "/tmp/ipykernel_3598849/3092327652.py:6: SettingWithCopyWarning: \n",
      "A value is trying to be set on a copy of a slice from a DataFrame\n",
      "\n",
      "See the caveats in the documentation: https://pandas.pydata.org/pandas-docs/stable/user_guide/indexing.html#returning-a-view-versus-a-copy\n",
      "  df.DE[np.logical_and(df.padj < pval, df.log2FoldChange > 0)] = \"Up\"\n",
      "/tmp/ipykernel_3598849/3092327652.py:7: SettingWithCopyWarning: \n",
      "A value is trying to be set on a copy of a slice from a DataFrame\n",
      "\n",
      "See the caveats in the documentation: https://pandas.pydata.org/pandas-docs/stable/user_guide/indexing.html#returning-a-view-versus-a-copy\n",
      "  df.DE[np.logical_and(df.padj < pval, df.log2FoldChange < 0)] = \"Down\"\n"
     ]
    }
   ],
   "source": [
    "df = stat_res.results_df.copy(deep=True)\n",
    "df.dropna(axis=0, inplace=True)\n",
    "df = df.merge(annot, left_index=True, right_on='gene_id')\n",
    "\n",
    "df['DE'] = \"No\"\n",
    "df.DE[np.logical_and(df.padj < pval, df.log2FoldChange > 0)] = \"Up\"\n",
    "df.DE[np.logical_and(df.padj < pval, df.log2FoldChange < 0)] = \"Down\""
   ]
  },
  {
   "cell_type": "markdown",
   "id": "94a5e88b-6a39-4bbc-9417-0ca62701eb23",
   "metadata": {},
   "source": [
    "# Make volcano plot from DEG results"
   ]
  },
  {
   "cell_type": "code",
   "execution_count": 32,
   "id": "b1269055-7e92-4f08-8886-c80b4364a4cd",
   "metadata": {},
   "outputs": [
    {
     "name": "stderr",
     "output_type": "stream",
     "text": [
      "/tmp/ipykernel_3598849/1301967919.py:5: SettingWithCopyWarning: \n",
      "A value is trying to be set on a copy of a slice from a DataFrame\n",
      "\n",
      "See the caveats in the documentation: https://pandas.pydata.org/pandas-docs/stable/user_guide/indexing.html#returning-a-view-versus-a-copy\n",
      "  df.label[df.DE == \"No\"] = \"\"\n",
      "/tmp/ipykernel_3598849/1301967919.py:11: SettingWithCopyWarning: \n",
      "A value is trying to be set on a copy of a slice from a DataFrame\n",
      "\n",
      "See the caveats in the documentation: https://pandas.pydata.org/pandas-docs/stable/user_guide/indexing.html#returning-a-view-versus-a-copy\n",
      "  down.sort_values([\"padj\"], inplace=True)\n",
      "/tmp/ipykernel_3598849/1301967919.py:13: SettingWithCopyWarning: \n",
      "A value is trying to be set on a copy of a slice from a DataFrame\n",
      "\n",
      "See the caveats in the documentation: https://pandas.pydata.org/pandas-docs/stable/user_guide/indexing.html#returning-a-view-versus-a-copy\n",
      "  up.sort_values([\"padj\"], inplace=True)\n"
     ]
    },
    {
     "data": {
      "image/png": "[encoded data removed]",
      "text/plain": [
       "<Figure size 720x720 with 1 Axes>"
      ]
     },
     "metadata": {
      "needs_background": "light"
     },
     "output_type": "display_data"
    }
   ],
   "source": [
    "from adjustText import adjust_text\n",
    "import matplotlib.pylab as plt\n",
    "\n",
    "df['label'] = df.gene_name\n",
    "df.label[df.DE == \"No\"] = \"\"\n",
    "\n",
    "plt.scatter(x=df['log2FoldChange'],y=df['padj'].apply(lambda x:-np.log10(x)), s=1, label=\"Not significant\")\n",
    "\n",
    "# highlight down- or up- regulated genes\n",
    "down = df[df.DE == \"Down\"]\n",
    "down.sort_values([\"padj\"], inplace=True)\n",
    "up = df[df.DE == \"Up\"]\n",
    "up.sort_values([\"padj\"], inplace=True)\n",
    "\n",
    "plt.scatter(x=down['log2FoldChange'],y=down['padj'].apply(lambda x:-np.log10(x)),s=3,label=\"Downregulated\",color=\"blue\")\n",
    "plt.scatter(x=up['log2FoldChange'],y=up['padj'].apply(lambda x:-np.log10(x)),s=3,label=\"Upregulated\",color=\"red\")\n",
    "texts=[]\n",
    "#for i in range(min(10, up.shape[0])):\n",
    "#    texts.append(plt.text(x=up.iloc[i, 1], \n",
    "#                          y=-np.log10(up.iloc[i, 5]),\n",
    "#                          s=up.iloc[i, 7]))\n",
    "#for i in range(min(10, down.shape[0])):\n",
    "#    texts.append(plt.text(x=down.iloc[i, 1], \n",
    "#                          y=-np.log10(down.iloc[i, 5]),\n",
    "#                          s=down.iloc[i, 7]))\n",
    "#adjust_text(texts,arrowprops=dict(arrowstyle=\"-\", color='black', lw=0.5))\n",
    "plt.xlabel(\"logFC\")\n",
    "plt.ylabel(\"-log10(adj p-value)\")\n",
    "plt.axvline(l2fc,color=\"grey\",linestyle=\"--\")\n",
    "plt.axvline(-l2fc,color=\"grey\",linestyle=\"--\")\n",
    "plt.axhline(-np.log10(pval),color=\"grey\",linestyle=\"--\")\n",
    "plt.legend()\n",
    "plt.rcParams['figure.figsize'] = [10, 10]\n",
    "\n"
   ]
  },
  {
   "cell_type": "code",
   "execution_count": null,
   "id": "2d53e5e0-24ae-47a0-9587-53cf265cfcf7",
   "metadata": {},
   "outputs": [],
   "source": []
  },
  {
   "cell_type": "code",
   "execution_count": null,
   "id": "4dc3de26-8705-43cd-bc67-a0ae72eb03d7",
   "metadata": {},
   "outputs": [],
   "source": []
  },
  {
   "cell_type": "code",
   "execution_count": null,
   "id": "5aec4581-d81c-4435-9d94-3c7920e4bd9c",
   "metadata": {},
   "outputs": [],
   "source": []
  }
 ],
 "metadata": {
  "kernelspec": {
   "display_name": "Python 3 (ipykernel)",
   "language": "python",
   "name": "python3"
  },
  "language_info": {
   "codemirror_mode": {
    "name": "ipython",
    "version": 3
   },
   "file_extension": ".py",
   "mimetype": "text/x-python",
   "name": "python",
   "nbconvert_exporter": "python",
   "pygments_lexer": "ipython3",
   "version": "3.8.0"
  }
 },
 "nbformat": 4,
 "nbformat_minor": 5
}
