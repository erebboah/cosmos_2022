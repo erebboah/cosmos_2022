{
 "cells": [
  {
   "cell_type": "markdown",
   "id": "f6229c18-a243-4c3e-8f61-082cb4d75de8",
   "metadata": {},
   "source": [
    "# Load libraries"
   ]
  },
  {
   "cell_type": "code",
   "execution_count": 16,
   "id": "5672fde4-669a-4022-81ad-a0767e620b5e",
   "metadata": {},
   "outputs": [],
   "source": [
    "import pandas as pd\n",
    "import matplotlib.pyplot as plt\n",
    "import seaborn as sns\n",
    "from sklearn.decomposition import PCA\n",
    "\n",
    "sns.set_context('paper', font_scale=2) # set some nice global plotting settings\n"
   ]
  },
  {
   "cell_type": "markdown",
   "id": "8a5ad9b7-0d7c-4f84-b2ae-83f878f45b65",
   "metadata": {},
   "source": [
    "# Read in data"
   ]
  },
  {
   "cell_type": "code",
   "execution_count": 17,
   "id": "7fbcbb00-ce31-418d-84ed-9211977e5c5f",
   "metadata": {},
   "outputs": [],
   "source": [
    "df = pd.read_csv('data/fshd_tpm_matrix.csv', index_col = 0)"
   ]
  },
  {
   "cell_type": "code",
   "execution_count": 18,
   "id": "e84b7b81-bcc3-49a5-85f5-49459480537c",
   "metadata": {},
   "outputs": [
    {
     "data": {
      "text/html": [
       "<div>\n",
       "<style scoped>\n",
       "    .dataframe tbody tr th:only-of-type {\n",
       "        vertical-align: middle;\n",
       "    }\n",
       "\n",
       "    .dataframe tbody tr th {\n",
       "        vertical-align: top;\n",
       "    }\n",
       "\n",
       "    .dataframe thead th {\n",
       "        text-align: right;\n",
       "    }\n",
       "</style>\n",
       "<table border=\"1\" class=\"dataframe\">\n",
       "  <thead>\n",
       "    <tr style=\"text-align: right;\">\n",
       "      <th></th>\n",
       "      <th>C_3_1</th>\n",
       "      <th>C_3_2</th>\n",
       "      <th>C_5_1</th>\n",
       "      <th>C_5_2</th>\n",
       "      <th>F_3_1</th>\n",
       "      <th>F_3_2</th>\n",
       "      <th>F_5_1</th>\n",
       "      <th>F_5_2</th>\n",
       "    </tr>\n",
       "    <tr>\n",
       "      <th>gene_name</th>\n",
       "      <th></th>\n",
       "      <th></th>\n",
       "      <th></th>\n",
       "      <th></th>\n",
       "      <th></th>\n",
       "      <th></th>\n",
       "      <th></th>\n",
       "      <th></th>\n",
       "    </tr>\n",
       "  </thead>\n",
       "  <tbody>\n",
       "    <tr>\n",
       "      <th>DDX11L1</th>\n",
       "      <td>0.199543</td>\n",
       "      <td>0.0000</td>\n",
       "      <td>0.275608</td>\n",
       "      <td>0.079013</td>\n",
       "      <td>1.216350</td>\n",
       "      <td>0.00000</td>\n",
       "      <td>0.00000</td>\n",
       "      <td>0.954882</td>\n",
       "    </tr>\n",
       "    <tr>\n",
       "      <th>WASH7P</th>\n",
       "      <td>1.628010</td>\n",
       "      <td>1.2081</td>\n",
       "      <td>1.912200</td>\n",
       "      <td>1.367780</td>\n",
       "      <td>0.944094</td>\n",
       "      <td>0.19531</td>\n",
       "      <td>1.24893</td>\n",
       "      <td>0.471472</td>\n",
       "    </tr>\n",
       "    <tr>\n",
       "      <th>MIR6859-1</th>\n",
       "      <td>0.000000</td>\n",
       "      <td>0.0000</td>\n",
       "      <td>0.000000</td>\n",
       "      <td>0.000000</td>\n",
       "      <td>0.000000</td>\n",
       "      <td>0.00000</td>\n",
       "      <td>0.00000</td>\n",
       "      <td>0.000000</td>\n",
       "    </tr>\n",
       "    <tr>\n",
       "      <th>MIR1302-2HG</th>\n",
       "      <td>0.000000</td>\n",
       "      <td>0.0000</td>\n",
       "      <td>0.000000</td>\n",
       "      <td>0.000000</td>\n",
       "      <td>0.000000</td>\n",
       "      <td>0.00000</td>\n",
       "      <td>0.00000</td>\n",
       "      <td>0.000000</td>\n",
       "    </tr>\n",
       "    <tr>\n",
       "      <th>MIR1302-2</th>\n",
       "      <td>0.000000</td>\n",
       "      <td>0.0000</td>\n",
       "      <td>0.000000</td>\n",
       "      <td>0.000000</td>\n",
       "      <td>0.000000</td>\n",
       "      <td>0.00000</td>\n",
       "      <td>0.00000</td>\n",
       "      <td>0.000000</td>\n",
       "    </tr>\n",
       "  </tbody>\n",
       "</table>\n",
       "</div>"
      ],
      "text/plain": [
       "                C_3_1   C_3_2     C_5_1     C_5_2     F_3_1    F_3_2    F_5_1  \\\n",
       "gene_name                                                                       \n",
       "DDX11L1      0.199543  0.0000  0.275608  0.079013  1.216350  0.00000  0.00000   \n",
       "WASH7P       1.628010  1.2081  1.912200  1.367780  0.944094  0.19531  1.24893   \n",
       "MIR6859-1    0.000000  0.0000  0.000000  0.000000  0.000000  0.00000  0.00000   \n",
       "MIR1302-2HG  0.000000  0.0000  0.000000  0.000000  0.000000  0.00000  0.00000   \n",
       "MIR1302-2    0.000000  0.0000  0.000000  0.000000  0.000000  0.00000  0.00000   \n",
       "\n",
       "                F_5_2  \n",
       "gene_name              \n",
       "DDX11L1      0.954882  \n",
       "WASH7P       0.471472  \n",
       "MIR6859-1    0.000000  \n",
       "MIR1302-2HG  0.000000  \n",
       "MIR1302-2    0.000000  "
      ]
     },
     "execution_count": 18,
     "metadata": {},
     "output_type": "execute_result"
    }
   ],
   "source": [
    "df.head()"
   ]
  },
  {
   "cell_type": "markdown",
   "id": "7f1f3766-c6e5-4342-ab15-45fd5fac2e52",
   "metadata": {},
   "source": [
    "# Read in metadata"
   ]
  },
  {
   "cell_type": "code",
   "execution_count": 19,
   "id": "4661bbd0-9d51-404d-8d63-22b24b6366d0",
   "metadata": {},
   "outputs": [],
   "source": [
    "metadata = pd.read_csv('data/fshd_metadata.csv')"
   ]
  },
  {
   "cell_type": "code",
   "execution_count": 20,
   "id": "c72fed05-ba8e-449b-adce-fa3f0cb07bbb",
   "metadata": {},
   "outputs": [
    {
     "data": {
      "text/html": [
       "<div>\n",
       "<style scoped>\n",
       "    .dataframe tbody tr th:only-of-type {\n",
       "        vertical-align: middle;\n",
       "    }\n",
       "\n",
       "    .dataframe tbody tr th {\n",
       "        vertical-align: top;\n",
       "    }\n",
       "\n",
       "    .dataframe thead th {\n",
       "        text-align: right;\n",
       "    }\n",
       "</style>\n",
       "<table border=\"1\" class=\"dataframe\">\n",
       "  <thead>\n",
       "    <tr style=\"text-align: right;\">\n",
       "      <th></th>\n",
       "      <th>SampleID</th>\n",
       "      <th>Sample</th>\n",
       "      <th>Timepoint</th>\n",
       "      <th>Condition</th>\n",
       "      <th>Replicate</th>\n",
       "    </tr>\n",
       "  </thead>\n",
       "  <tbody>\n",
       "    <tr>\n",
       "      <th>0</th>\n",
       "      <td>Control-1 Day 3 Rep 1</td>\n",
       "      <td>C_3_1</td>\n",
       "      <td>Day_3</td>\n",
       "      <td>Control</td>\n",
       "      <td>1</td>\n",
       "    </tr>\n",
       "    <tr>\n",
       "      <th>1</th>\n",
       "      <td>Control-1 Day 3 Rep 2</td>\n",
       "      <td>C_3_2</td>\n",
       "      <td>Day_3</td>\n",
       "      <td>Control</td>\n",
       "      <td>2</td>\n",
       "    </tr>\n",
       "    <tr>\n",
       "      <th>2</th>\n",
       "      <td>Control-1 Day 5 Rep 1</td>\n",
       "      <td>C_5_1</td>\n",
       "      <td>Day_5</td>\n",
       "      <td>Control</td>\n",
       "      <td>1</td>\n",
       "    </tr>\n",
       "    <tr>\n",
       "      <th>3</th>\n",
       "      <td>Control-1 Day 5 Rep 2</td>\n",
       "      <td>C_5_2</td>\n",
       "      <td>Day_5</td>\n",
       "      <td>Control</td>\n",
       "      <td>2</td>\n",
       "    </tr>\n",
       "    <tr>\n",
       "      <th>4</th>\n",
       "      <td>FSHD2-1 Day 3 Rep 1</td>\n",
       "      <td>F_3_1</td>\n",
       "      <td>Day_3</td>\n",
       "      <td>FSHD</td>\n",
       "      <td>1</td>\n",
       "    </tr>\n",
       "  </tbody>\n",
       "</table>\n",
       "</div>"
      ],
      "text/plain": [
       "                SampleID Sample Timepoint Condition  Replicate\n",
       "0  Control-1 Day 3 Rep 1  C_3_1     Day_3   Control          1\n",
       "1  Control-1 Day 3 Rep 2  C_3_2     Day_3   Control          2\n",
       "2  Control-1 Day 5 Rep 1  C_5_1     Day_5   Control          1\n",
       "3  Control-1 Day 5 Rep 2  C_5_2     Day_5   Control          2\n",
       "4    FSHD2-1 Day 3 Rep 1  F_3_1     Day_3      FSHD          1"
      ]
     },
     "execution_count": 20,
     "metadata": {},
     "output_type": "execute_result"
    }
   ],
   "source": [
    "metadata.head()"
   ]
  },
  {
   "cell_type": "markdown",
   "id": "4b38074a-1c13-4e2c-aae6-b1a25ba4abf9",
   "metadata": {},
   "source": [
    "# Format data for PCA and run PCA"
   ]
  },
  {
   "cell_type": "code",
   "execution_count": 21,
   "id": "ac01c55b-1630-44d6-8b06-c31c9f7cbd15",
   "metadata": {},
   "outputs": [
    {
     "data": {
      "text/html": [
       "<style>#sk-container-id-2 {color: black;}#sk-container-id-2 pre{padding: 0;}#sk-container-id-2 div.sk-toggleable {background-color: white;}#sk-container-id-2 label.sk-toggleable__label {cursor: pointer;display: block;width: 100%;margin-bottom: 0;padding: 0.3em;box-sizing: border-box;text-align: center;}#sk-container-id-2 label.sk-toggleable__label-arrow:before {content: \"▸\";float: left;margin-right: 0.25em;color: #696969;}#sk-container-id-2 label.sk-toggleable__label-arrow:hover:before {color: black;}#sk-container-id-2 div.sk-estimator:hover label.sk-toggleable__label-arrow:before {color: black;}#sk-container-id-2 div.sk-toggleable__content {max-height: 0;max-width: 0;overflow: hidden;text-align: left;background-color: #f0f8ff;}#sk-container-id-2 div.sk-toggleable__content pre {margin: 0.2em;color: black;border-radius: 0.25em;background-color: #f0f8ff;}#sk-container-id-2 input.sk-toggleable__control:checked~div.sk-toggleable__content {max-height: 200px;max-width: 100%;overflow: auto;}#sk-container-id-2 input.sk-toggleable__control:checked~label.sk-toggleable__label-arrow:before {content: \"▾\";}#sk-container-id-2 div.sk-estimator input.sk-toggleable__control:checked~label.sk-toggleable__label {background-color: #d4ebff;}#sk-container-id-2 div.sk-label input.sk-toggleable__control:checked~label.sk-toggleable__label {background-color: #d4ebff;}#sk-container-id-2 input.sk-hidden--visually {border: 0;clip: rect(1px 1px 1px 1px);clip: rect(1px, 1px, 1px, 1px);height: 1px;margin: -1px;overflow: hidden;padding: 0;position: absolute;width: 1px;}#sk-container-id-2 div.sk-estimator {font-family: monospace;background-color: #f0f8ff;border: 1px dotted black;border-radius: 0.25em;box-sizing: border-box;margin-bottom: 0.5em;}#sk-container-id-2 div.sk-estimator:hover {background-color: #d4ebff;}#sk-container-id-2 div.sk-parallel-item::after {content: \"\";width: 100%;border-bottom: 1px solid gray;flex-grow: 1;}#sk-container-id-2 div.sk-label:hover label.sk-toggleable__label {background-color: #d4ebff;}#sk-container-id-2 div.sk-serial::before {content: \"\";position: absolute;border-left: 1px solid gray;box-sizing: border-box;top: 0;bottom: 0;left: 50%;z-index: 0;}#sk-container-id-2 div.sk-serial {display: flex;flex-direction: column;align-items: center;background-color: white;padding-right: 0.2em;padding-left: 0.2em;position: relative;}#sk-container-id-2 div.sk-item {position: relative;z-index: 1;}#sk-container-id-2 div.sk-parallel {display: flex;align-items: stretch;justify-content: center;background-color: white;position: relative;}#sk-container-id-2 div.sk-item::before, #sk-container-id-2 div.sk-parallel-item::before {content: \"\";position: absolute;border-left: 1px solid gray;box-sizing: border-box;top: 0;bottom: 0;left: 50%;z-index: -1;}#sk-container-id-2 div.sk-parallel-item {display: flex;flex-direction: column;z-index: 1;position: relative;background-color: white;}#sk-container-id-2 div.sk-parallel-item:first-child::after {align-self: flex-end;width: 50%;}#sk-container-id-2 div.sk-parallel-item:last-child::after {align-self: flex-start;width: 50%;}#sk-container-id-2 div.sk-parallel-item:only-child::after {width: 0;}#sk-container-id-2 div.sk-dashed-wrapped {border: 1px dashed gray;margin: 0 0.4em 0.5em 0.4em;box-sizing: border-box;padding-bottom: 0.4em;background-color: white;}#sk-container-id-2 div.sk-label label {font-family: monospace;font-weight: bold;display: inline-block;line-height: 1.2em;}#sk-container-id-2 div.sk-label-container {text-align: center;}#sk-container-id-2 div.sk-container {/* jupyter's `normalize.less` sets `[hidden] { display: none; }` but bootstrap.min.css set `[hidden] { display: none !important; }` so we also need the `!important` here to be able to override the default hidden behavior on the sphinx rendered scikit-learn.org. See: https://github.com/scikit-learn/scikit-learn/issues/21755 */display: inline-block !important;position: relative;}#sk-container-id-2 div.sk-text-repr-fallback {display: none;}</style><div id=\"sk-container-id-2\" class=\"sk-top-container\"><div class=\"sk-text-repr-fallback\"><pre>PCA(n_components=8)</pre><b>In a Jupyter environment, please rerun this cell to show the HTML representation or trust the notebook. <br />On GitHub, the HTML representation is unable to render, please try loading this page with nbviewer.org.</b></div><div class=\"sk-container\" hidden><div class=\"sk-item\"><div class=\"sk-estimator sk-toggleable\"><input class=\"sk-toggleable__control sk-hidden--visually\" id=\"sk-estimator-id-2\" type=\"checkbox\" checked><label for=\"sk-estimator-id-2\" class=\"sk-toggleable__label sk-toggleable__label-arrow\">PCA</label><div class=\"sk-toggleable__content\"><pre>PCA(n_components=8)</pre></div></div></div></div></div>"
      ],
      "text/plain": [
       "PCA(n_components=8)"
      ]
     },
     "execution_count": 21,
     "metadata": {},
     "output_type": "execute_result"
    }
   ],
   "source": [
    "input_df = df.transpose() # transpose the matrix\n",
    "\n",
    "data = input_df.values # just get the numbers\n",
    "pca = PCA(input_df.shape[0]) # compute the same # of PCs as samples\n",
    "pca.fit(data) # run PCA\n"
   ]
  },
  {
   "cell_type": "markdown",
   "id": "9bd09db1-72d1-475b-b45e-b016773e32e6",
   "metadata": {},
   "source": [
    "# Get variance explained from pca object and format for plotting\n"
   ]
  },
  {
   "cell_type": "code",
   "execution_count": 22,
   "id": "becc7d2b-d6f6-4da8-b0fe-52522bde7ccf",
   "metadata": {},
   "outputs": [],
   "source": [
    "# convert array of proportion variance explained per PC to a dataframe\n",
    "var_df = pd.DataFrame(data=pca.explained_variance_ratio_,\n",
    "                      columns=['explained_variance_ratio'])\n",
    "\n"
   ]
  },
  {
   "cell_type": "code",
   "execution_count": 23,
   "id": "7c365989-4c90-4306-824f-d912520d76c2",
   "metadata": {},
   "outputs": [],
   "source": [
    "# calculate percent variance from proportion variance (multiply column by 100)\n",
    "var_df['pct_variance_explained'] = var_df['explained_variance_ratio']*100\n",
    "var_df['PC'] = var_df.index + 1\n"
   ]
  },
  {
   "cell_type": "code",
   "execution_count": 24,
   "id": "188b4d03-090d-47e5-bbd2-45e67981a1a5",
   "metadata": {},
   "outputs": [
    {
     "data": {
      "text/html": [
       "<div>\n",
       "<style scoped>\n",
       "    .dataframe tbody tr th:only-of-type {\n",
       "        vertical-align: middle;\n",
       "    }\n",
       "\n",
       "    .dataframe tbody tr th {\n",
       "        vertical-align: top;\n",
       "    }\n",
       "\n",
       "    .dataframe thead th {\n",
       "        text-align: right;\n",
       "    }\n",
       "</style>\n",
       "<table border=\"1\" class=\"dataframe\">\n",
       "  <thead>\n",
       "    <tr style=\"text-align: right;\">\n",
       "      <th></th>\n",
       "      <th>explained_variance_ratio</th>\n",
       "      <th>pct_variance_explained</th>\n",
       "      <th>PC</th>\n",
       "    </tr>\n",
       "  </thead>\n",
       "  <tbody>\n",
       "    <tr>\n",
       "      <th>0</th>\n",
       "      <td>0.614892</td>\n",
       "      <td>61.489219</td>\n",
       "      <td>1</td>\n",
       "    </tr>\n",
       "    <tr>\n",
       "      <th>1</th>\n",
       "      <td>0.201952</td>\n",
       "      <td>20.195247</td>\n",
       "      <td>2</td>\n",
       "    </tr>\n",
       "    <tr>\n",
       "      <th>2</th>\n",
       "      <td>0.091525</td>\n",
       "      <td>9.152513</td>\n",
       "      <td>3</td>\n",
       "    </tr>\n",
       "    <tr>\n",
       "      <th>3</th>\n",
       "      <td>0.047553</td>\n",
       "      <td>4.755336</td>\n",
       "      <td>4</td>\n",
       "    </tr>\n",
       "    <tr>\n",
       "      <th>4</th>\n",
       "      <td>0.031298</td>\n",
       "      <td>3.129849</td>\n",
       "      <td>5</td>\n",
       "    </tr>\n",
       "  </tbody>\n",
       "</table>\n",
       "</div>"
      ],
      "text/plain": [
       "   explained_variance_ratio  pct_variance_explained  PC\n",
       "0                  0.614892               61.489219   1\n",
       "1                  0.201952               20.195247   2\n",
       "2                  0.091525                9.152513   3\n",
       "3                  0.047553                4.755336   4\n",
       "4                  0.031298                3.129849   5"
      ]
     },
     "execution_count": 24,
     "metadata": {},
     "output_type": "execute_result"
    }
   ],
   "source": [
    "var_df.head()"
   ]
  },
  {
   "cell_type": "markdown",
   "id": "05827749-3513-48ab-8058-e9542ee90959",
   "metadata": {},
   "source": [
    "# Bar plot of variance explained per PC"
   ]
  },
  {
   "cell_type": "code",
   "execution_count": 25,
   "id": "e993a39d-a86f-4a37-9b94-7a57a07e8ef6",
   "metadata": {},
   "outputs": [
    {
     "data": {
      "image/png": "[encoded data removed]",
      "text/plain": [
       "<Figure size 432x360 with 1 Axes>"
      ]
     },
     "metadata": {
      "needs_background": "light"
     },
     "output_type": "display_data"
    }
   ],
   "source": [
    "plt.figure(figsize=(6, 5))\n",
    "sns.barplot(data=var_df, x='PC', y='pct_variance_explained')\n",
    "plt.ylabel('Principal Component')\n",
    "plt.ylabel('Percent of variance explained')\n",
    "plt.xticks(rotation=90)\n",
    "plt.show()\n"
   ]
  },
  {
   "cell_type": "markdown",
   "id": "c4edf683-3679-48dd-a29c-7e4f2e35af81",
   "metadata": {},
   "source": [
    "# Get PCA representation of the data and format for plotting"
   ]
  },
  {
   "cell_type": "code",
   "execution_count": 26,
   "id": "013b47c7-8fba-4885-a6ed-2744264bddb2",
   "metadata": {},
   "outputs": [],
   "source": [
    "pca_data = pca.transform(data) \n"
   ]
  },
  {
   "cell_type": "code",
   "execution_count": 27,
   "id": "b7dcb8f0-8e17-4c10-bd12-4ea26f86887a",
   "metadata": {},
   "outputs": [],
   "source": [
    "pca_df = pd.DataFrame(data=pca_data)\n",
    "pca_df.columns = ['PC' + str(col+1) for col in pca_df.columns]\n",
    "\n",
    "pca_df.set_index(input_df.index, inplace=True)\n",
    "\n",
    "# Perform a merge based on matching indices\n",
    "pca_df = pca_df.merge(metadata, left_index=True, right_on='Sample')\n"
   ]
  },
  {
   "cell_type": "markdown",
   "id": "7a594530-f1b3-4a52-8828-74e319f2cdaf",
   "metadata": {},
   "source": [
    "# Plot PCA scatter plot"
   ]
  },
  {
   "cell_type": "code",
   "execution_count": 28,
   "id": "b6bdc72c-c589-4688-9053-635bde0b6a23",
   "metadata": {},
   "outputs": [
    {
     "data": {
      "image/png": "[encoded data removed]",
      "text/plain": [
       "<Figure size 576x432 with 1 Axes>"
      ]
     },
     "metadata": {
      "needs_background": "light"
     },
     "output_type": "display_data"
    }
   ],
   "source": [
    "plt.figure(figsize=(8, 6))\n",
    "sns.scatterplot(data=pca_df, x='PC1', y='PC2', \n",
    "                hue = 'Timepoint', \n",
    "                s = 400, \n",
    "                style = \"Condition\") \n",
    "\n",
    "plt.legend(bbox_to_anchor=(1.05, 1), loc='upper left') # move legend\n",
    "\n",
    "plt.show()\n"
   ]
  },
  {
   "cell_type": "markdown",
   "id": "cfa4b816-6284-49c3-88fb-2f1290dc3bf8",
   "metadata": {},
   "source": [
    "## Add % variance explained to plot"
   ]
  },
  {
   "cell_type": "code",
   "execution_count": 29,
   "id": "5c12552c-f01f-40ae-b92b-cc4e3897d4cb",
   "metadata": {},
   "outputs": [
    {
     "data": {
      "image/png": "[encoded data removed]",
      "text/plain": [
       "<Figure size 576x432 with 1 Axes>"
      ]
     },
     "metadata": {
      "needs_background": "light"
     },
     "output_type": "display_data"
    }
   ],
   "source": [
    "plt.figure(figsize=(8, 6))\n",
    "sns.scatterplot(data=pca_df, x='PC1', y='PC2', \n",
    "                hue = 'Timepoint', \n",
    "                s = 400, \n",
    "                style = \"Condition\") \n",
    "\n",
    "plt.xlabel(f'PC1 ({var_df[\"pct_variance_explained\"][0]:.1f}%)')\n",
    "plt.ylabel(f'PC2 ({var_df[\"pct_variance_explained\"][1]:.1f}%)')\n",
    "\n",
    "plt.legend(bbox_to_anchor=(1.05, 1), loc='upper left') # move legend\n",
    "\n",
    "plt.show()\n"
   ]
  },
  {
   "cell_type": "code",
   "execution_count": null,
   "id": "ddf0cf6d-1b13-45f8-8c8b-b807cee1e234",
   "metadata": {},
   "outputs": [],
   "source": []
  }
 ],
 "metadata": {
  "kernelspec": {
   "display_name": "Python 3 (ipykernel)",
   "language": "python",
   "name": "python3"
  },
  "language_info": {
   "codemirror_mode": {
    "name": "ipython",
    "version": 3
   },
   "file_extension": ".py",
   "mimetype": "text/x-python",
   "name": "python",
   "nbconvert_exporter": "python",
   "pygments_lexer": "ipython3",
   "version": "3.8.0"
  }
 },
 "nbformat": 4,
 "nbformat_minor": 5
}
