{
 "cells": [
  {
   "cell_type": "markdown",
   "id": "ce0f0460-a335-4e48-b23d-4119efc1c29f",
   "metadata": {},
   "source": [
    "# Load libraries"
   ]
  },
  {
   "cell_type": "code",
   "execution_count": 45,
   "id": "7f78a50d-fdbc-48a9-b2ff-7bc71cb80c91",
   "metadata": {},
   "outputs": [],
   "source": [
    "import pandas as pd\n",
    "import numpy as np\n",
    "import matplotlib.pyplot as plt\n",
    "import seaborn as sns\n",
    "from pydeseq2.dds import DeseqDataSet\n",
    "from pydeseq2.ds import DeseqStats\n",
    "\n",
    "sns.set_context('paper', font_scale=2) # set some nice global plotting settings\n"
   ]
  },
  {
   "cell_type": "markdown",
   "id": "7cd4b0ec-6f4e-4926-8e22-8ec7d556ddaa",
   "metadata": {},
   "source": [
    "# Read in data\n",
    "Make sure to use the raw **counts matrix** csv file."
   ]
  },
  {
   "cell_type": "code",
   "execution_count": 46,
   "id": "a366bfa5-cdbf-4c87-a471-9a0f31d16e3b",
   "metadata": {},
   "outputs": [],
   "source": [
    "df = pd.read_csv('data/fshd_counts_matrix.csv', index_col = 0)"
   ]
  },
  {
   "cell_type": "code",
   "execution_count": 47,
   "id": "c6972223-9037-445e-891d-56dc45891597",
   "metadata": {},
   "outputs": [
    {
     "data": {
      "text/html": [
       "<div>\n",
       "<style scoped>\n",
       "    .dataframe tbody tr th:only-of-type {\n",
       "        vertical-align: middle;\n",
       "    }\n",
       "\n",
       "    .dataframe tbody tr th {\n",
       "        vertical-align: top;\n",
       "    }\n",
       "\n",
       "    .dataframe thead th {\n",
       "        text-align: right;\n",
       "    }\n",
       "</style>\n",
       "<table border=\"1\" class=\"dataframe\">\n",
       "  <thead>\n",
       "    <tr style=\"text-align: right;\">\n",
       "      <th></th>\n",
       "      <th>C_3_1</th>\n",
       "      <th>C_3_2</th>\n",
       "      <th>C_5_1</th>\n",
       "      <th>C_5_2</th>\n",
       "      <th>F_3_1</th>\n",
       "      <th>F_3_2</th>\n",
       "      <th>F_5_1</th>\n",
       "      <th>F_5_2</th>\n",
       "    </tr>\n",
       "  </thead>\n",
       "  <tbody>\n",
       "    <tr>\n",
       "      <th>DDX11L1</th>\n",
       "      <td>3.0</td>\n",
       "      <td>0.0</td>\n",
       "      <td>4.0</td>\n",
       "      <td>1.0</td>\n",
       "      <td>25.0</td>\n",
       "      <td>0.0</td>\n",
       "      <td>0.0</td>\n",
       "      <td>19.0</td>\n",
       "    </tr>\n",
       "    <tr>\n",
       "      <th>WASH7P</th>\n",
       "      <td>22.0</td>\n",
       "      <td>17.0</td>\n",
       "      <td>25.0</td>\n",
       "      <td>17.0</td>\n",
       "      <td>16.0</td>\n",
       "      <td>3.0</td>\n",
       "      <td>18.0</td>\n",
       "      <td>7.0</td>\n",
       "    </tr>\n",
       "    <tr>\n",
       "      <th>MIR6859-1</th>\n",
       "      <td>0.0</td>\n",
       "      <td>0.0</td>\n",
       "      <td>0.0</td>\n",
       "      <td>0.0</td>\n",
       "      <td>0.0</td>\n",
       "      <td>0.0</td>\n",
       "      <td>0.0</td>\n",
       "      <td>0.0</td>\n",
       "    </tr>\n",
       "    <tr>\n",
       "      <th>MIR1302-2HG</th>\n",
       "      <td>0.0</td>\n",
       "      <td>0.0</td>\n",
       "      <td>0.0</td>\n",
       "      <td>0.0</td>\n",
       "      <td>0.0</td>\n",
       "      <td>0.0</td>\n",
       "      <td>0.0</td>\n",
       "      <td>0.0</td>\n",
       "    </tr>\n",
       "    <tr>\n",
       "      <th>MIR1302-2</th>\n",
       "      <td>0.0</td>\n",
       "      <td>0.0</td>\n",
       "      <td>0.0</td>\n",
       "      <td>0.0</td>\n",
       "      <td>0.0</td>\n",
       "      <td>0.0</td>\n",
       "      <td>0.0</td>\n",
       "      <td>0.0</td>\n",
       "    </tr>\n",
       "  </tbody>\n",
       "</table>\n",
       "</div>"
      ],
      "text/plain": [
       "             C_3_1  C_3_2  C_5_1  C_5_2  F_3_1  F_3_2  F_5_1  F_5_2\n",
       "DDX11L1        3.0    0.0    4.0    1.0   25.0    0.0    0.0   19.0\n",
       "WASH7P        22.0   17.0   25.0   17.0   16.0    3.0   18.0    7.0\n",
       "MIR6859-1      0.0    0.0    0.0    0.0    0.0    0.0    0.0    0.0\n",
       "MIR1302-2HG    0.0    0.0    0.0    0.0    0.0    0.0    0.0    0.0\n",
       "MIR1302-2      0.0    0.0    0.0    0.0    0.0    0.0    0.0    0.0"
      ]
     },
     "execution_count": 47,
     "metadata": {},
     "output_type": "execute_result"
    }
   ],
   "source": [
    "df.head()"
   ]
  },
  {
   "cell_type": "markdown",
   "id": "069c55af-946e-4310-a208-ec35a68b57de",
   "metadata": {},
   "source": [
    "# Read in metadata"
   ]
  },
  {
   "cell_type": "code",
   "execution_count": 48,
   "id": "3f67968e-7ac4-4cd3-a14d-84a372d88a1a",
   "metadata": {},
   "outputs": [],
   "source": [
    "metadata = pd.read_csv('data/fshd_metadata.csv')\n",
    "metadata = metadata[metadata['Sample'].isin(df.columns)]\n",
    "\n",
    "metadata.index = metadata['Sample'] # metadata index must be column names of the data"
   ]
  },
  {
   "cell_type": "code",
   "execution_count": 49,
   "id": "eeb70e2d-a064-43c6-a283-a02474471f9c",
   "metadata": {},
   "outputs": [
    {
     "data": {
      "text/html": [
       "<div>\n",
       "<style scoped>\n",
       "    .dataframe tbody tr th:only-of-type {\n",
       "        vertical-align: middle;\n",
       "    }\n",
       "\n",
       "    .dataframe tbody tr th {\n",
       "        vertical-align: top;\n",
       "    }\n",
       "\n",
       "    .dataframe thead th {\n",
       "        text-align: right;\n",
       "    }\n",
       "</style>\n",
       "<table border=\"1\" class=\"dataframe\">\n",
       "  <thead>\n",
       "    <tr style=\"text-align: right;\">\n",
       "      <th></th>\n",
       "      <th>SampleID</th>\n",
       "      <th>Sample</th>\n",
       "      <th>Timepoint</th>\n",
       "      <th>Condition</th>\n",
       "      <th>Replicate</th>\n",
       "    </tr>\n",
       "    <tr>\n",
       "      <th>Sample</th>\n",
       "      <th></th>\n",
       "      <th></th>\n",
       "      <th></th>\n",
       "      <th></th>\n",
       "      <th></th>\n",
       "    </tr>\n",
       "  </thead>\n",
       "  <tbody>\n",
       "    <tr>\n",
       "      <th>C_3_1</th>\n",
       "      <td>Control-1 Day 3 Rep 1</td>\n",
       "      <td>C_3_1</td>\n",
       "      <td>Day_3</td>\n",
       "      <td>Control</td>\n",
       "      <td>1</td>\n",
       "    </tr>\n",
       "    <tr>\n",
       "      <th>C_3_2</th>\n",
       "      <td>Control-1 Day 3 Rep 2</td>\n",
       "      <td>C_3_2</td>\n",
       "      <td>Day_3</td>\n",
       "      <td>Control</td>\n",
       "      <td>2</td>\n",
       "    </tr>\n",
       "    <tr>\n",
       "      <th>C_5_1</th>\n",
       "      <td>Control-1 Day 5 Rep 1</td>\n",
       "      <td>C_5_1</td>\n",
       "      <td>Day_5</td>\n",
       "      <td>Control</td>\n",
       "      <td>1</td>\n",
       "    </tr>\n",
       "    <tr>\n",
       "      <th>C_5_2</th>\n",
       "      <td>Control-1 Day 5 Rep 2</td>\n",
       "      <td>C_5_2</td>\n",
       "      <td>Day_5</td>\n",
       "      <td>Control</td>\n",
       "      <td>2</td>\n",
       "    </tr>\n",
       "    <tr>\n",
       "      <th>F_3_1</th>\n",
       "      <td>FSHD2-1 Day 3 Rep 1</td>\n",
       "      <td>F_3_1</td>\n",
       "      <td>Day_3</td>\n",
       "      <td>FSHD</td>\n",
       "      <td>1</td>\n",
       "    </tr>\n",
       "  </tbody>\n",
       "</table>\n",
       "</div>"
      ],
      "text/plain": [
       "                     SampleID Sample Timepoint Condition  Replicate\n",
       "Sample                                                             \n",
       "C_3_1   Control-1 Day 3 Rep 1  C_3_1     Day_3   Control          1\n",
       "C_3_2   Control-1 Day 3 Rep 2  C_3_2     Day_3   Control          2\n",
       "C_5_1   Control-1 Day 5 Rep 1  C_5_1     Day_5   Control          1\n",
       "C_5_2   Control-1 Day 5 Rep 2  C_5_2     Day_5   Control          2\n",
       "F_3_1     FSHD2-1 Day 3 Rep 1  F_3_1     Day_3      FSHD          1"
      ]
     },
     "execution_count": 49,
     "metadata": {},
     "output_type": "execute_result"
    }
   ],
   "source": [
    "metadata.head()"
   ]
  },
  {
   "cell_type": "markdown",
   "id": "8745f984-e762-424c-912a-2c75661cd243",
   "metadata": {},
   "source": [
    "# Define filters and group"
   ]
  },
  {
   "cell_type": "code",
   "execution_count": 52,
   "id": "1c2266f3-1a2b-42ec-b7cf-59569762a1be",
   "metadata": {},
   "outputs": [],
   "source": [
    "filtering = {'Condition': ['Control'],\n",
    "             'Timepoint': ['Day_3','Day_5']}\n",
    "\n",
    "group = 'Celltype' # change to the group you're interested in making the comparison in\n"
   ]
  },
  {
   "cell_type": "code",
   "execution_count": 53,
   "id": "4b5bd441-b78b-4514-90a5-4619593f3804",
   "metadata": {},
   "outputs": [],
   "source": [
    "metadata_selected = metadata.copy()\n",
    "for col in filtering.keys():\n",
    "    metadata_selected = metadata_selected[metadata_selected[col].isin(filtering[col])]\n",
    "\n",
    "df_selected = df.loc[:, metadata_selected['Sample']]\n"
   ]
  },
  {
   "cell_type": "markdown",
   "id": "86bc68ca-1bf4-408c-a5b0-dba61720e502",
   "metadata": {},
   "source": [
    "# Run PyDESeq2\n",
    "See package documedf_selectedntation [here](https://pydeseq2.readthedocs.io/en/latest/)."
   ]
  },
  {
   "cell_type": "code",
   "execution_count": null,
   "id": "5f6cb9bf-7675-4d81-80d8-21def6898aaf",
   "metadata": {},
   "outputs": [],
   "source": [
    "dds = DeseqDataSet(\n",
    "    counts=df_selected.T,\n",
    "    clinical=metadata_selected,\n",
    "    design_factors=group,\n",
    "    refit_cooks=True\n",
    ")\n",
    "dds.deseq2()\n",
    "stat_res = DeseqStats(dds, \n",
    "                      contrast=[group] + filtering[group])\n",
    "stat_res.summary()"
   ]
  },
  {
   "cell_type": "markdown",
   "id": "4e480279-91c4-4781-ae8f-cdb2089f93d5",
   "metadata": {},
   "source": [
    "# Format results "
   ]
  },
  {
   "cell_type": "code",
   "execution_count": null,
   "id": "4c9d9d0a-ccfa-4d9f-8c30-24127b0e3416",
   "metadata": {},
   "outputs": [],
   "source": [
    "results = stat_res.results_df # get results df\n",
    "\n",
    "results['nlog10padj'] = -np.log10(results['padj']) # make -log10(adj. p-value) column\n",
    "\n",
    "results.replace([np.inf, -np.inf], np.nan, inplace=True) # remove NAN and infinity values...\n",
    "\n",
    "results = results.dropna() # drop NAs\n",
    "\n",
    "results = results.reset_index().rename(columns={'index': 'gene_name'}) # set gene name to be its own column\n"
   ]
  },
  {
   "cell_type": "markdown",
   "id": "30e9fcea-85a2-4a61-9c43-621beac273c1",
   "metadata": {},
   "source": [
    "# Volcano plot \n"
   ]
  },
  {
   "cell_type": "code",
   "execution_count": null,
   "id": "b8b99f70-0de5-4f3a-aff5-612530db23ec",
   "metadata": {
    "tags": []
   },
   "outputs": [],
   "source": [
    "degs_up = results[(results['padj'] < 0.05) & (results['log2FoldChange'] > 2)]\n",
    "degs_down = results[(results['padj'] < 0.05) & (results['log2FoldChange'] < -2)]\n",
    "\n",
    "\n",
    "plt.figure(figsize=(7, 6))\n",
    "sns.scatterplot(data=results, x='log2FoldChange', y='nlog10padj', alpha=0.5, \n",
    "                color='black', label = \"Not significant\")\n",
    "\n",
    "# basically layer the subset dataframes on top of the original plot\n",
    "sns.scatterplot(data=degs_up, x='log2FoldChange', y='nlog10padj', alpha=0.5, \n",
    "                color='red', label = f\"Upregulated ({len(degs_up)} genes)\")\n",
    "sns.scatterplot(data=degs_down, x='log2FoldChange', y='nlog10padj', alpha=0.5, \n",
    "                color='blue', label = f\"Downregulated ({len(degs_down)} genes)\")\n",
    "\n",
    "plt.xlabel('log2(Fold Change)')\n",
    "plt.ylabel('-log10(adj. p-value)')\n",
    "plt.title('Human T-cell vs Activated_T-cell')\n",
    "plt.legend(bbox_to_anchor=(1, 1), loc='upper left') # move legend\n",
    "\n",
    "# draw horizontal and vertical dashed lines\n",
    "plt.axhline(1.3, color='black', linestyle='--')\n",
    "plt.axvline(1, color='black', linestyle='--')\n",
    "plt.axvline(-1, color='black', linestyle='--')\n",
    "\n",
    "# label specific points\n",
    "for index, row in results.iterrows():\n",
    "    if abs(row['log2FoldChange']) > 6 and row['nlog10padj'] > 250:\n",
    "        plt.text(row['log2FoldChange'], row['nlog10padj'], row['gene_name'], fontsize=10)\n",
    "\n",
    "\n",
    "plt.show()\n"
   ]
  }
 ],
 "metadata": {
  "kernelspec": {
   "display_name": "Python 3 (ipykernel)",
   "language": "python",
   "name": "python3"
  },
  "language_info": {
   "codemirror_mode": {
    "name": "ipython",
    "version": 3
   },
   "file_extension": ".py",
   "mimetype": "text/x-python",
   "name": "python",
   "nbconvert_exporter": "python",
   "pygments_lexer": "ipython3",
   "version": "3.8.0"
  }
 },
 "nbformat": 4,
 "nbformat_minor": 5
}
