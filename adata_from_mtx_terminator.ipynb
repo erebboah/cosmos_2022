{
 "cells": [
  {
   "cell_type": "code",
   "execution_count": 1,
   "id": "d017a335-2b29-4c73-8271-87d6755a6b42",
   "metadata": {},
   "outputs": [
    {
     "name": "stderr",
     "output_type": "stream",
     "text": [
      "<frozen importlib._bootstrap>:219: RuntimeWarning: scipy._lib.messagestream.MessageStream size changed, may indicate binary incompatibility. Expected 56 from C header, got 64 from PyObject\n"
     ]
    }
   ],
   "source": [
    "import warnings\n",
    "import pandas as pd\n",
    "import scanpy as sc\n",
    "import numpy as np\n",
    "import scrublet as scr\n",
    "import matplotlib.pyplot as plt\n",
    "import seaborn as sns\n",
    "import anndata as ad"
   ]
  },
  {
   "cell_type": "markdown",
   "id": "da117c50-6a89-4233-b23e-f25c7268f4d4",
   "metadata": {},
   "source": [
    "# Construct AnnData object from sparse matrix, cell barcode list, and gene list\n",
    "\n",
    "The AnnData object is a widely used data structure in single-cell genomics analysis, provided by the Python package anndata. It serves as a container for high-dimensional single-cell data, such as gene expression from sc/snRNA-seq. The AnnData object encapsulates the data matrix along with various annotations and metadata associated with the cells and features (genes). Here's an overview of the structure of an AnnData object:\n",
    "\n",
    "**Data Matrix**: The primary component of an AnnData object is a two-dimensional data matrix. It represents the expression values of genes (features) across individual cells. By convention, the matrix is stored as a dense or sparse matrix object, depending on the size and sparsity of the data. The matrix typically has cells as rows and genes as columns.\n",
    "\n",
    "**Observations**: Each row of the data matrix corresponds to an individual cell (aka observation). The AnnData object stores various properties or annotations associated with each cell, for example the cell's barcode, the type of the cell, or sample information associated with the sample the cell came from. These annotations are typically stored as a pandas DataFrame, where each row corresponds to a cell and each column represents a specific annotation.\n",
    "\n",
    "**Variables**: Each column of the data matrix corresponds to a gene (aka variable). The AnnData object also stores various properties or annotations associated with each feature. For example, it can include gene names, gene IDs, and gene type. Similar to cell annotations, feature annotations are stored as a pandas DataFrame, where each row corresponds to a gene and each column represents a specific annotation.\n",
    "\n",
    "See [anndata documentation](https://anndata.readthedocs.io/en/latest/) for more details.\n"
   ]
  },
  {
   "cell_type": "code",
   "execution_count": 2,
   "id": "7d6e0aad-8d7f-4862-b30c-a0fc0d1efa47",
   "metadata": {},
   "outputs": [],
   "source": [
    "# the directory containing the data\n",
    "path = \"/data/class/cosmos2023/PUBLIC/terminator/GSE156498/\""
   ]
  },
  {
   "cell_type": "markdown",
   "id": "2161c394-36c8-412b-879b-77fd37001946",
   "metadata": {},
   "source": [
    "# Sample 1"
   ]
  },
  {
   "cell_type": "code",
   "execution_count": 3,
   "id": "309765c6-d2ca-4580-977a-a9acee1e3f30",
   "metadata": {},
   "outputs": [],
   "source": [
    "sample = 'GSM4732631_WT'"
   ]
  },
  {
   "cell_type": "code",
   "execution_count": 4,
   "id": "da843d29-9f1c-4ae7-b4b0-4f51d1083434",
   "metadata": {},
   "outputs": [],
   "source": [
    "# Load sparse matrix from file\n",
    "mtx = sc.read_mtx(path + sample + '_matrix.mtx').T"
   ]
  },
  {
   "cell_type": "code",
   "execution_count": 5,
   "id": "d3f02e75-6b5f-4ff2-b22c-7fd18d982a01",
   "metadata": {},
   "outputs": [],
   "source": [
    "# Load gene IDs or names from CSV file\n",
    "var = pd.read_csv(path + sample + '_features.tsv', sep = '\\t', header=None)\n",
    "\n",
    "# Set new column names\n",
    "var.columns = ['gene_id', 'gene_name', 'assay']\n",
    "\n",
    "# Load observations from CSV file\n",
    "obs = pd.read_csv(path + sample + '_barcodes.tsv', sep = '\\t', header=None)\n",
    "obs.columns = ['raw_bc']\n",
    "obs['bc'] = obs['raw_bc'] + '_' + sample\n",
    "obs['sample'] = sample"
   ]
  },
  {
   "cell_type": "code",
   "execution_count": 6,
   "id": "8cd7039b-072a-4e1a-9358-46a6f4e54831",
   "metadata": {},
   "outputs": [],
   "source": [
    "mtx.obs = obs\n",
    "mtx.var = var"
   ]
  },
  {
   "cell_type": "code",
   "execution_count": 7,
   "id": "4194a8d9-3d08-4670-992e-569b3d99c3de",
   "metadata": {},
   "outputs": [
    {
     "name": "stderr",
     "output_type": "stream",
     "text": [
      "/opt/apps/python/3.8.0/lib/python3.8/site-packages/anndata/_core/anndata.py:121: ImplicitModificationWarning: Transforming to str index.\n",
      "  warnings.warn(\"Transforming to str index.\", ImplicitModificationWarning)\n"
     ]
    }
   ],
   "source": [
    "adata1 = ad.AnnData(X=mtx.X, var=var, obs=obs)"
   ]
  },
  {
   "cell_type": "code",
   "execution_count": 8,
   "id": "a79005c4-f75a-4b85-acf3-8bdc34430009",
   "metadata": {},
   "outputs": [],
   "source": [
    "adata1.obs.index = adata1.obs['bc']"
   ]
  },
  {
   "cell_type": "code",
   "execution_count": 9,
   "id": "332de234-ad55-4ca6-a37d-0ae5ec5b4298",
   "metadata": {},
   "outputs": [],
   "source": [
    "adata1.var_names = adata1.var['gene_name'] \n",
    "adata1.var_names_make_unique()"
   ]
  },
  {
   "cell_type": "markdown",
   "id": "cce3e9de-d68d-4d2f-bd86-a1a85987dc33",
   "metadata": {},
   "source": [
    "# Sample 2"
   ]
  },
  {
   "cell_type": "code",
   "execution_count": 10,
   "id": "d9129792-6ab4-4a18-9177-3363e7c61636",
   "metadata": {},
   "outputs": [],
   "source": [
    "sample = 'GSM4732632_D51'"
   ]
  },
  {
   "cell_type": "code",
   "execution_count": 11,
   "id": "6d0b4005-167b-4a31-a2dd-17b3b0456fdd",
   "metadata": {},
   "outputs": [],
   "source": [
    "# Load sparse matrix from file\n",
    "mtx = sc.read_mtx(path + sample + '_matrix.mtx').T"
   ]
  },
  {
   "cell_type": "code",
   "execution_count": 12,
   "id": "f6423a81-1beb-4cb3-ac4b-0f974706acfd",
   "metadata": {},
   "outputs": [],
   "source": [
    "# Load gene IDs or names from CSV file\n",
    "var = pd.read_csv(path + sample + '_features.tsv', sep = '\\t', header=None)\n",
    "\n",
    "# Set new column names\n",
    "var.columns = ['gene_id', 'gene_name', 'assay']\n",
    "\n",
    "# Load observations from CSV file\n",
    "obs = pd.read_csv(path + sample + '_barcodes.tsv', sep = '\\t', header=None)\n",
    "obs.columns = ['raw_bc']\n",
    "obs['bc'] = obs['raw_bc'] + '_' + sample\n",
    "obs['sample'] = sample"
   ]
  },
  {
   "cell_type": "code",
   "execution_count": 13,
   "id": "a6bccc99-bc48-4214-a737-efd77a03ab4e",
   "metadata": {},
   "outputs": [],
   "source": [
    "mtx.obs = obs\n",
    "mtx.var = var"
   ]
  },
  {
   "cell_type": "code",
   "execution_count": 14,
   "id": "f012c825-16af-494b-9882-5398dfd07f42",
   "metadata": {},
   "outputs": [
    {
     "name": "stderr",
     "output_type": "stream",
     "text": [
      "/opt/apps/python/3.8.0/lib/python3.8/site-packages/anndata/_core/anndata.py:121: ImplicitModificationWarning: Transforming to str index.\n",
      "  warnings.warn(\"Transforming to str index.\", ImplicitModificationWarning)\n"
     ]
    }
   ],
   "source": [
    "adata2 = ad.AnnData(X=mtx.X, var=var, obs=obs)"
   ]
  },
  {
   "cell_type": "code",
   "execution_count": 15,
   "id": "e95b6199-5c20-48e5-81fb-5e9879ba8927",
   "metadata": {},
   "outputs": [],
   "source": [
    "adata2.obs.index = adata2.obs['bc']"
   ]
  },
  {
   "cell_type": "code",
   "execution_count": 16,
   "id": "a586f9ae-56c4-40ef-872b-8c26874fc295",
   "metadata": {},
   "outputs": [],
   "source": [
    "adata2.var_names = adata2.var['gene_name'] \n",
    "adata2.var_names_make_unique()"
   ]
  },
  {
   "cell_type": "code",
   "execution_count": 17,
   "id": "7271ccd3-8f36-4d63-aa8f-2d313557c0e1",
   "metadata": {},
   "outputs": [
    {
     "data": {
      "text/plain": [
       "AnnData object with n_obs × n_vars = 4486 × 31053\n",
       "    obs: 'raw_bc', 'bc', 'sample'\n",
       "    var: 'gene_id', 'gene_name', 'assay'"
      ]
     },
     "execution_count": 17,
     "metadata": {},
     "output_type": "execute_result"
    }
   ],
   "source": [
    "adata2"
   ]
  },
  {
   "cell_type": "markdown",
   "id": "263b51b7-efec-4302-a2f9-6cbe07e34a1e",
   "metadata": {},
   "source": [
    "# Merge samples into 1 object"
   ]
  },
  {
   "cell_type": "code",
   "execution_count": 18,
   "id": "7a97a8b3-c57a-4f80-9a27-f9de5d2e16d1",
   "metadata": {},
   "outputs": [],
   "source": [
    "adata = ad.concat([adata1, adata2], axis = 0)"
   ]
  },
  {
   "cell_type": "code",
   "execution_count": 19,
   "id": "6ebae823-d27f-4ac7-9fa4-dafbec2c5964",
   "metadata": {},
   "outputs": [
    {
     "data": {
      "text/plain": [
       "AnnData object with n_obs × n_vars = 11581 × 31053\n",
       "    obs: 'raw_bc', 'bc', 'sample'"
      ]
     },
     "execution_count": 19,
     "metadata": {},
     "output_type": "execute_result"
    }
   ],
   "source": [
    "adata"
   ]
  },
  {
   "cell_type": "code",
   "execution_count": 20,
   "id": "3d5630f7-63d0-490f-9628-1c6499048e5c",
   "metadata": {},
   "outputs": [],
   "source": [
    "#sc.pp.filter_cells(adata, min_counts=500)"
   ]
  },
  {
   "cell_type": "code",
   "execution_count": 21,
   "id": "58daf4e7-e4b8-45d3-bc6a-2e25dc498141",
   "metadata": {},
   "outputs": [],
   "source": [
    "adata.write_h5ad(\"/data/class/cosmos2023/PUBLIC/terminator/scanpy/adata.h5ad\")\n"
   ]
  },
  {
   "cell_type": "code",
   "execution_count": null,
   "id": "9dcf7ebf-2617-4819-ab35-71388cae1981",
   "metadata": {},
   "outputs": [],
   "source": []
  }
 ],
 "metadata": {
  "kernelspec": {
   "display_name": "Python 3 (ipykernel)",
   "language": "python",
   "name": "python3"
  },
  "language_info": {
   "codemirror_mode": {
    "name": "ipython",
    "version": 3
   },
   "file_extension": ".py",
   "mimetype": "text/x-python",
   "name": "python",
   "nbconvert_exporter": "python",
   "pygments_lexer": "ipython3",
   "version": "3.8.0"
  }
 },
 "nbformat": 4,
 "nbformat_minor": 5
}
