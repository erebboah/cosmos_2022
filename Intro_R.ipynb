{
 "cells": [
  {
   "cell_type": "markdown",
   "metadata": {},
   "source": [
    "# RNA-seq analysis with R\n",
    "\n",
    "This notebook is guided by Chapters 1-6 of [R for Data Science](https://r4ds.had.co.nz/index.html), with a bioinformatics twist. \n"
   ]
  },
  {
   "cell_type": "markdown",
   "metadata": {},
   "source": [
    "### [Introduction](https://r4ds.had.co.nz/introduction.html#what-you-will-learn)\n",
    "\n",
    "### [Prerequisites](https://r4ds.had.co.nz/introduction.html#prerequisites)\n",
    "Disregard this section - after you login through UCI's JupyterHub, you are ready to go! If you want to continue using R after this summer, I recommend reading through it. \n",
    "\n",
    "### [Running R code](https://r4ds.had.co.nz/introduction.html#running-r-code)\n"
   ]
  },
  {
   "cell_type": "markdown",
   "metadata": {},
   "source": [
    "## Load packages"
   ]
  },
  {
   "cell_type": "code",
   "execution_count": 2,
   "metadata": {},
   "outputs": [
    {
     "name": "stderr",
     "output_type": "stream",
     "text": [
      "── \u001b[1mAttaching packages\u001b[22m ────────────────────────────────────────────────────────────────────── tidyverse 1.3.1 ──\n",
      "\n",
      "\u001b[32m✔\u001b[39m \u001b[34mggplot2\u001b[39m 3.3.5     \u001b[32m✔\u001b[39m \u001b[34mpurrr  \u001b[39m 0.3.4\n",
      "\u001b[32m✔\u001b[39m \u001b[34mtibble \u001b[39m 3.1.4     \u001b[32m✔\u001b[39m \u001b[34mdplyr  \u001b[39m 1.0.7\n",
      "\u001b[32m✔\u001b[39m \u001b[34mtidyr  \u001b[39m 1.1.3     \u001b[32m✔\u001b[39m \u001b[34mstringr\u001b[39m 1.4.0\n",
      "\u001b[32m✔\u001b[39m \u001b[34mreadr  \u001b[39m 2.0.1     \u001b[32m✔\u001b[39m \u001b[34mforcats\u001b[39m 0.5.1\n",
      "\n",
      "── \u001b[1mConflicts\u001b[22m ───────────────────────────────────────────────────────────────────────── tidyverse_conflicts() ──\n",
      "\u001b[31m✖\u001b[39m \u001b[34mdplyr\u001b[39m::\u001b[32mfilter()\u001b[39m masks \u001b[34mstats\u001b[39m::filter()\n",
      "\u001b[31m✖\u001b[39m \u001b[34mdplyr\u001b[39m::\u001b[32mlag()\u001b[39m    masks \u001b[34mstats\u001b[39m::lag()\n",
      "\n"
     ]
    }
   ],
   "source": [
    "library(tidyverse)"
   ]
  },
  {
   "cell_type": "markdown",
   "metadata": {},
   "source": [
    "## Import data into R"
   ]
  },
  {
   "cell_type": "markdown",
   "metadata": {},
   "source": [
    "We have data from 2 patient-derived cell lines, Control and FSHD2, that were differentiated in culture. Bulk short-read RNA-seq was performed using polyA primers and Illumina sequencing. To quantify gene expression, reads were mapped using [kallisto](https://pachterlab.github.io/kallisto/about), and the resulting counts matrix was saved as a csv file. The metadata was constructed from the sample names and saved as a csv file.\n",
    "\n",
    "A variable provides us with a way to store this data and manipulate it. The code below imports the data and assigns it to the`counts` variable, and imports the metadata and assigns it to the `meta` variable. The `=` and `<-` operators are interchangeable."
   ]
  },
  {
   "cell_type": "code",
   "execution_count": 1,
   "metadata": {},
   "outputs": [],
   "source": [
    "counts = read.csv(\"data/fshd.counts.matrix.csv\")\n",
    "meta <- read.csv(\"data/fshd.metadata.csv\")"
   ]
  },
  {
   "cell_type": "markdown",
   "metadata": {},
   "source": [
    "## Investigate data\n",
    "\n",
    "The `head()` function is just like `head` in Linux, except it outputs the first 6 lines rather than 10. Like the command line arguments, most functions also have options. For example, output the first 10 rows with `head(counts, 10)`.\n",
    "\n",
    "The `dim()` function outputs the dimensions of the data in rows by columns."
   ]
  },
  {
   "cell_type": "code",
   "execution_count": 3,
   "metadata": {},
   "outputs": [
    {
     "data": {
      "text/html": [
       "<table class=\"dataframe\">\n",
       "<caption>A data.frame: 6 × 10</caption>\n",
       "<thead>\n",
       "\t<tr><th></th><th scope=col>Gene_ID</th><th scope=col>Gene_Name</th><th scope=col>Control_78_Day_0_Rep3</th><th scope=col>Control_78_Day_0_Rep4</th><th scope=col>Control_78_Day_3_Rep1</th><th scope=col>Control_78_Day_3_Rep2</th><th scope=col>FSHD2_19_Day_0_Rep1</th><th scope=col>FSHD2_19_Day_0_Rep2</th><th scope=col>FSHD2_19_Day_3_Rep1</th><th scope=col>FSHD2_19_Day_3_Rep2</th></tr>\n",
       "\t<tr><th></th><th scope=col>&lt;chr&gt;</th><th scope=col>&lt;chr&gt;</th><th scope=col>&lt;int&gt;</th><th scope=col>&lt;int&gt;</th><th scope=col>&lt;int&gt;</th><th scope=col>&lt;int&gt;</th><th scope=col>&lt;int&gt;</th><th scope=col>&lt;int&gt;</th><th scope=col>&lt;int&gt;</th><th scope=col>&lt;int&gt;</th></tr>\n",
       "</thead>\n",
       "<tbody>\n",
       "\t<tr><th scope=row>1</th><td>ENSG00000223972.5</td><td>DDX11L1    </td><td>0</td><td> 2</td><td>0</td><td> 0</td><td>0</td><td>0</td><td>0</td><td> 0</td></tr>\n",
       "\t<tr><th scope=row>2</th><td>ENSG00000227232.5</td><td>WASH7P     </td><td>6</td><td>20</td><td>6</td><td>13</td><td>9</td><td>6</td><td>0</td><td>14</td></tr>\n",
       "\t<tr><th scope=row>3</th><td>ENSG00000278267.1</td><td>MIR6859-1  </td><td>0</td><td> 0</td><td>0</td><td> 0</td><td>0</td><td>0</td><td>0</td><td> 0</td></tr>\n",
       "\t<tr><th scope=row>4</th><td>ENSG00000243485.5</td><td>MIR1302-2HG</td><td>0</td><td> 0</td><td>0</td><td> 0</td><td>0</td><td>0</td><td>0</td><td> 0</td></tr>\n",
       "\t<tr><th scope=row>5</th><td>ENSG00000284332.1</td><td>MIR1302-2  </td><td>0</td><td> 0</td><td>0</td><td> 0</td><td>0</td><td>0</td><td>0</td><td> 0</td></tr>\n",
       "\t<tr><th scope=row>6</th><td>ENSG00000237613.2</td><td>FAM138A    </td><td>0</td><td> 0</td><td>1</td><td> 0</td><td>3</td><td>0</td><td>0</td><td> 4</td></tr>\n",
       "</tbody>\n",
       "</table>\n"
      ],
      "text/latex": [
       "A data.frame: 6 × 10\n",
       "\\begin{tabular}{r|llllllllll}\n",
       "  & Gene\\_ID & Gene\\_Name & Control\\_78\\_Day\\_0\\_Rep3 & Control\\_78\\_Day\\_0\\_Rep4 & Control\\_78\\_Day\\_3\\_Rep1 & Control\\_78\\_Day\\_3\\_Rep2 & FSHD2\\_19\\_Day\\_0\\_Rep1 & FSHD2\\_19\\_Day\\_0\\_Rep2 & FSHD2\\_19\\_Day\\_3\\_Rep1 & FSHD2\\_19\\_Day\\_3\\_Rep2\\\\\n",
       "  & <chr> & <chr> & <int> & <int> & <int> & <int> & <int> & <int> & <int> & <int>\\\\\n",
       "\\hline\n",
       "\t1 & ENSG00000223972.5 & DDX11L1     & 0 &  2 & 0 &  0 & 0 & 0 & 0 &  0\\\\\n",
       "\t2 & ENSG00000227232.5 & WASH7P      & 6 & 20 & 6 & 13 & 9 & 6 & 0 & 14\\\\\n",
       "\t3 & ENSG00000278267.1 & MIR6859-1   & 0 &  0 & 0 &  0 & 0 & 0 & 0 &  0\\\\\n",
       "\t4 & ENSG00000243485.5 & MIR1302-2HG & 0 &  0 & 0 &  0 & 0 & 0 & 0 &  0\\\\\n",
       "\t5 & ENSG00000284332.1 & MIR1302-2   & 0 &  0 & 0 &  0 & 0 & 0 & 0 &  0\\\\\n",
       "\t6 & ENSG00000237613.2 & FAM138A     & 0 &  0 & 1 &  0 & 3 & 0 & 0 &  4\\\\\n",
       "\\end{tabular}\n"
      ],
      "text/markdown": [
       "\n",
       "A data.frame: 6 × 10\n",
       "\n",
       "| <!--/--> | Gene_ID &lt;chr&gt; | Gene_Name &lt;chr&gt; | Control_78_Day_0_Rep3 &lt;int&gt; | Control_78_Day_0_Rep4 &lt;int&gt; | Control_78_Day_3_Rep1 &lt;int&gt; | Control_78_Day_3_Rep2 &lt;int&gt; | FSHD2_19_Day_0_Rep1 &lt;int&gt; | FSHD2_19_Day_0_Rep2 &lt;int&gt; | FSHD2_19_Day_3_Rep1 &lt;int&gt; | FSHD2_19_Day_3_Rep2 &lt;int&gt; |\n",
       "|---|---|---|---|---|---|---|---|---|---|---|\n",
       "| 1 | ENSG00000223972.5 | DDX11L1     | 0 |  2 | 0 |  0 | 0 | 0 | 0 |  0 |\n",
       "| 2 | ENSG00000227232.5 | WASH7P      | 6 | 20 | 6 | 13 | 9 | 6 | 0 | 14 |\n",
       "| 3 | ENSG00000278267.1 | MIR6859-1   | 0 |  0 | 0 |  0 | 0 | 0 | 0 |  0 |\n",
       "| 4 | ENSG00000243485.5 | MIR1302-2HG | 0 |  0 | 0 |  0 | 0 | 0 | 0 |  0 |\n",
       "| 5 | ENSG00000284332.1 | MIR1302-2   | 0 |  0 | 0 |  0 | 0 | 0 | 0 |  0 |\n",
       "| 6 | ENSG00000237613.2 | FAM138A     | 0 |  0 | 1 |  0 | 3 | 0 | 0 |  4 |\n",
       "\n"
      ],
      "text/plain": [
       "  Gene_ID           Gene_Name   Control_78_Day_0_Rep3 Control_78_Day_0_Rep4\n",
       "1 ENSG00000223972.5 DDX11L1     0                      2                   \n",
       "2 ENSG00000227232.5 WASH7P      6                     20                   \n",
       "3 ENSG00000278267.1 MIR6859-1   0                      0                   \n",
       "4 ENSG00000243485.5 MIR1302-2HG 0                      0                   \n",
       "5 ENSG00000284332.1 MIR1302-2   0                      0                   \n",
       "6 ENSG00000237613.2 FAM138A     0                      0                   \n",
       "  Control_78_Day_3_Rep1 Control_78_Day_3_Rep2 FSHD2_19_Day_0_Rep1\n",
       "1 0                      0                    0                  \n",
       "2 6                     13                    9                  \n",
       "3 0                      0                    0                  \n",
       "4 0                      0                    0                  \n",
       "5 0                      0                    0                  \n",
       "6 1                      0                    3                  \n",
       "  FSHD2_19_Day_0_Rep2 FSHD2_19_Day_3_Rep1 FSHD2_19_Day_3_Rep2\n",
       "1 0                   0                    0                 \n",
       "2 6                   0                   14                 \n",
       "3 0                   0                    0                 \n",
       "4 0                   0                    0                 \n",
       "5 0                   0                    0                 \n",
       "6 0                   0                    4                 "
      ]
     },
     "metadata": {},
     "output_type": "display_data"
    },
    {
     "data": {
      "text/html": [
       "<style>\n",
       ".list-inline {list-style: none; margin:0; padding: 0}\n",
       ".list-inline>li {display: inline-block}\n",
       ".list-inline>li:not(:last-child)::after {content: \"\\00b7\"; padding: 0 .5ex}\n",
       "</style>\n",
       "<ol class=list-inline><li>59429</li><li>10</li></ol>\n"
      ],
      "text/latex": [
       "\\begin{enumerate*}\n",
       "\\item 59429\n",
       "\\item 10\n",
       "\\end{enumerate*}\n"
      ],
      "text/markdown": [
       "1. 59429\n",
       "2. 10\n",
       "\n",
       "\n"
      ],
      "text/plain": [
       "[1] 59429    10"
      ]
     },
     "metadata": {},
     "output_type": "display_data"
    }
   ],
   "source": [
    "head(counts)\n",
    "dim(counts)"
   ]
  },
  {
   "cell_type": "code",
   "execution_count": 4,
   "metadata": {},
   "outputs": [
    {
     "data": {
      "text/html": [
       "<table class=\"dataframe\">\n",
       "<caption>A data.frame: 6 × 4</caption>\n",
       "<thead>\n",
       "\t<tr><th></th><th scope=col>Sample</th><th scope=col>Patient</th><th scope=col>Day</th><th scope=col>Rep</th></tr>\n",
       "\t<tr><th></th><th scope=col>&lt;chr&gt;</th><th scope=col>&lt;chr&gt;</th><th scope=col>&lt;int&gt;</th><th scope=col>&lt;chr&gt;</th></tr>\n",
       "</thead>\n",
       "<tbody>\n",
       "\t<tr><th scope=row>1</th><td>Control_78_Day_0_Rep3</td><td>Control</td><td>0</td><td>Rep3</td></tr>\n",
       "\t<tr><th scope=row>2</th><td>Control_78_Day_0_Rep4</td><td>Control</td><td>0</td><td>Rep4</td></tr>\n",
       "\t<tr><th scope=row>3</th><td>Control_78_Day_3_Rep1</td><td>Control</td><td>3</td><td>Rep1</td></tr>\n",
       "\t<tr><th scope=row>4</th><td>Control_78_Day_3_Rep2</td><td>Control</td><td>3</td><td>Rep2</td></tr>\n",
       "\t<tr><th scope=row>5</th><td>FSHD2_19_Day_0_Rep1  </td><td>FSHD2  </td><td>0</td><td>Rep1</td></tr>\n",
       "\t<tr><th scope=row>6</th><td>FSHD2_19_Day_0_Rep2  </td><td>FSHD2  </td><td>0</td><td>Rep2</td></tr>\n",
       "</tbody>\n",
       "</table>\n"
      ],
      "text/latex": [
       "A data.frame: 6 × 4\n",
       "\\begin{tabular}{r|llll}\n",
       "  & Sample & Patient & Day & Rep\\\\\n",
       "  & <chr> & <chr> & <int> & <chr>\\\\\n",
       "\\hline\n",
       "\t1 & Control\\_78\\_Day\\_0\\_Rep3 & Control & 0 & Rep3\\\\\n",
       "\t2 & Control\\_78\\_Day\\_0\\_Rep4 & Control & 0 & Rep4\\\\\n",
       "\t3 & Control\\_78\\_Day\\_3\\_Rep1 & Control & 3 & Rep1\\\\\n",
       "\t4 & Control\\_78\\_Day\\_3\\_Rep2 & Control & 3 & Rep2\\\\\n",
       "\t5 & FSHD2\\_19\\_Day\\_0\\_Rep1   & FSHD2   & 0 & Rep1\\\\\n",
       "\t6 & FSHD2\\_19\\_Day\\_0\\_Rep2   & FSHD2   & 0 & Rep2\\\\\n",
       "\\end{tabular}\n"
      ],
      "text/markdown": [
       "\n",
       "A data.frame: 6 × 4\n",
       "\n",
       "| <!--/--> | Sample &lt;chr&gt; | Patient &lt;chr&gt; | Day &lt;int&gt; | Rep &lt;chr&gt; |\n",
       "|---|---|---|---|---|\n",
       "| 1 | Control_78_Day_0_Rep3 | Control | 0 | Rep3 |\n",
       "| 2 | Control_78_Day_0_Rep4 | Control | 0 | Rep4 |\n",
       "| 3 | Control_78_Day_3_Rep1 | Control | 3 | Rep1 |\n",
       "| 4 | Control_78_Day_3_Rep2 | Control | 3 | Rep2 |\n",
       "| 5 | FSHD2_19_Day_0_Rep1   | FSHD2   | 0 | Rep1 |\n",
       "| 6 | FSHD2_19_Day_0_Rep2   | FSHD2   | 0 | Rep2 |\n",
       "\n"
      ],
      "text/plain": [
       "  Sample                Patient Day Rep \n",
       "1 Control_78_Day_0_Rep3 Control 0   Rep3\n",
       "2 Control_78_Day_0_Rep4 Control 0   Rep4\n",
       "3 Control_78_Day_3_Rep1 Control 3   Rep1\n",
       "4 Control_78_Day_3_Rep2 Control 3   Rep2\n",
       "5 FSHD2_19_Day_0_Rep1   FSHD2   0   Rep1\n",
       "6 FSHD2_19_Day_0_Rep2   FSHD2   0   Rep2"
      ]
     },
     "metadata": {},
     "output_type": "display_data"
    },
    {
     "data": {
      "text/html": [
       "<style>\n",
       ".list-inline {list-style: none; margin:0; padding: 0}\n",
       ".list-inline>li {display: inline-block}\n",
       ".list-inline>li:not(:last-child)::after {content: \"\\00b7\"; padding: 0 .5ex}\n",
       "</style>\n",
       "<ol class=list-inline><li>8</li><li>4</li></ol>\n"
      ],
      "text/latex": [
       "\\begin{enumerate*}\n",
       "\\item 8\n",
       "\\item 4\n",
       "\\end{enumerate*}\n"
      ],
      "text/markdown": [
       "1. 8\n",
       "2. 4\n",
       "\n",
       "\n"
      ],
      "text/plain": [
       "[1] 8 4"
      ]
     },
     "metadata": {},
     "output_type": "display_data"
    }
   ],
   "source": [
    "head(meta)\n",
    "dim(meta)"
   ]
  },
  {
   "cell_type": "markdown",
   "metadata": {},
   "source": [
    "### Questions\n",
    "1. How many genes are detected?\n",
    "2. How many samples are there?\n",
    "3. What is the gene name in the 6th row?\n",
    "4. How many columns are in the metadata?\n",
    "5. What are the column names of the metadata?\n",
    "6. Which days were the samples collected on?"
   ]
  },
  {
   "cell_type": "markdown",
   "metadata": {},
   "source": [
    "## Manipulating data"
   ]
  },
  {
   "cell_type": "markdown",
   "metadata": {},
   "source": [
    "Data.frame variables can be manipulated by functions like `head()`, but also directly using brackets `[]` and the dollar sign `$` for column names.\n",
    "`:` operator indicates a sequence. `c()` function combines multiple values. "
   ]
  },
  {
   "cell_type": "code",
   "execution_count": 5,
   "metadata": {},
   "outputs": [
    {
     "data": {
      "text/html": [
       "'Control'"
      ],
      "text/latex": [
       "'Control'"
      ],
      "text/markdown": [
       "'Control'"
      ],
      "text/plain": [
       "[1] \"Control\""
      ]
     },
     "metadata": {},
     "output_type": "display_data"
    },
    {
     "data": {
      "text/html": [
       "<style>\n",
       ".list-inline {list-style: none; margin:0; padding: 0}\n",
       ".list-inline>li {display: inline-block}\n",
       ".list-inline>li:not(:last-child)::after {content: \"\\00b7\"; padding: 0 .5ex}\n",
       "</style>\n",
       "<ol class=list-inline><li>'Control_78_Day_0_Rep3'</li><li>'Control_78_Day_0_Rep4'</li><li>'Control_78_Day_3_Rep1'</li></ol>\n"
      ],
      "text/latex": [
       "\\begin{enumerate*}\n",
       "\\item 'Control\\_78\\_Day\\_0\\_Rep3'\n",
       "\\item 'Control\\_78\\_Day\\_0\\_Rep4'\n",
       "\\item 'Control\\_78\\_Day\\_3\\_Rep1'\n",
       "\\end{enumerate*}\n"
      ],
      "text/markdown": [
       "1. 'Control_78_Day_0_Rep3'\n",
       "2. 'Control_78_Day_0_Rep4'\n",
       "3. 'Control_78_Day_3_Rep1'\n",
       "\n",
       "\n"
      ],
      "text/plain": [
       "[1] \"Control_78_Day_0_Rep3\" \"Control_78_Day_0_Rep4\" \"Control_78_Day_3_Rep1\""
      ]
     },
     "metadata": {},
     "output_type": "display_data"
    },
    {
     "data": {
      "text/html": [
       "<style>\n",
       ".list-inline {list-style: none; margin:0; padding: 0}\n",
       ".list-inline>li {display: inline-block}\n",
       ".list-inline>li:not(:last-child)::after {content: \"\\00b7\"; padding: 0 .5ex}\n",
       "</style>\n",
       "<ol class=list-inline><li>0</li><li>0</li><li>3</li><li>3</li><li>0</li><li>0</li><li>3</li><li>3</li></ol>\n"
      ],
      "text/latex": [
       "\\begin{enumerate*}\n",
       "\\item 0\n",
       "\\item 0\n",
       "\\item 3\n",
       "\\item 3\n",
       "\\item 0\n",
       "\\item 0\n",
       "\\item 3\n",
       "\\item 3\n",
       "\\end{enumerate*}\n"
      ],
      "text/markdown": [
       "1. 0\n",
       "2. 0\n",
       "3. 3\n",
       "4. 3\n",
       "5. 0\n",
       "6. 0\n",
       "7. 3\n",
       "8. 3\n",
       "\n",
       "\n"
      ],
      "text/plain": [
       "[1] 0 0 3 3 0 0 3 3"
      ]
     },
     "metadata": {},
     "output_type": "display_data"
    },
    {
     "data": {
      "text/html": [
       "<style>\n",
       ".list-inline {list-style: none; margin:0; padding: 0}\n",
       ".list-inline>li {display: inline-block}\n",
       ".list-inline>li:not(:last-child)::after {content: \"\\00b7\"; padding: 0 .5ex}\n",
       "</style>\n",
       "<ol class=list-inline><li>1</li><li>3</li><li>4</li></ol>\n"
      ],
      "text/latex": [
       "\\begin{enumerate*}\n",
       "\\item 1\n",
       "\\item 3\n",
       "\\item 4\n",
       "\\end{enumerate*}\n"
      ],
      "text/markdown": [
       "1. 1\n",
       "2. 3\n",
       "3. 4\n",
       "\n",
       "\n"
      ],
      "text/plain": [
       "[1] 1 3 4"
      ]
     },
     "metadata": {},
     "output_type": "display_data"
    },
    {
     "data": {
      "text/html": [
       "'numeric'"
      ],
      "text/latex": [
       "'numeric'"
      ],
      "text/markdown": [
       "'numeric'"
      ],
      "text/plain": [
       "[1] \"numeric\""
      ]
     },
     "metadata": {},
     "output_type": "display_data"
    },
    {
     "data": {
      "text/html": [
       "<table class=\"dataframe\">\n",
       "<caption>A data.frame: 2 × 3</caption>\n",
       "<thead>\n",
       "\t<tr><th></th><th scope=col>Sample</th><th scope=col>Day</th><th scope=col>Rep</th></tr>\n",
       "\t<tr><th></th><th scope=col>&lt;chr&gt;</th><th scope=col>&lt;int&gt;</th><th scope=col>&lt;chr&gt;</th></tr>\n",
       "</thead>\n",
       "<tbody>\n",
       "\t<tr><th scope=row>1</th><td>Control_78_Day_0_Rep3</td><td>0</td><td>Rep3</td></tr>\n",
       "\t<tr><th scope=row>2</th><td>Control_78_Day_0_Rep4</td><td>0</td><td>Rep4</td></tr>\n",
       "</tbody>\n",
       "</table>\n"
      ],
      "text/latex": [
       "A data.frame: 2 × 3\n",
       "\\begin{tabular}{r|lll}\n",
       "  & Sample & Day & Rep\\\\\n",
       "  & <chr> & <int> & <chr>\\\\\n",
       "\\hline\n",
       "\t1 & Control\\_78\\_Day\\_0\\_Rep3 & 0 & Rep3\\\\\n",
       "\t2 & Control\\_78\\_Day\\_0\\_Rep4 & 0 & Rep4\\\\\n",
       "\\end{tabular}\n"
      ],
      "text/markdown": [
       "\n",
       "A data.frame: 2 × 3\n",
       "\n",
       "| <!--/--> | Sample &lt;chr&gt; | Day &lt;int&gt; | Rep &lt;chr&gt; |\n",
       "|---|---|---|---|\n",
       "| 1 | Control_78_Day_0_Rep3 | 0 | Rep3 |\n",
       "| 2 | Control_78_Day_0_Rep4 | 0 | Rep4 |\n",
       "\n"
      ],
      "text/plain": [
       "  Sample                Day Rep \n",
       "1 Control_78_Day_0_Rep3 0   Rep3\n",
       "2 Control_78_Day_0_Rep4 0   Rep4"
      ]
     },
     "metadata": {},
     "output_type": "display_data"
    }
   ],
   "source": [
    "meta[1,2] # 1st row, 2nd column\n",
    "meta[1:3,1] # rows 1 to 3, 1st column\n",
    "meta$Day # column named \"Day\"\n",
    "c(1,3,4) # \n",
    "class(c(1,3,4))\n",
    "meta[1:2,c(1,3,4)] # rows 1 to 2, columns 1, 3, and 4"
   ]
  },
  {
   "cell_type": "markdown",
   "metadata": {},
   "source": [
    "## Data visualization"
   ]
  },
  {
   "cell_type": "markdown",
   "metadata": {},
   "source": [
    "Let's start using `ggplot()` by visualizing gene expression between the first 2 samples. First, filter the data to just be the gene name and samples `Control_78_Day_0_Rep3` and `Control_78_Day_0_Rep4` (columns 1, 3, and 4)."
   ]
  },
  {
   "cell_type": "code",
   "execution_count": 6,
   "metadata": {},
   "outputs": [],
   "source": [
    "counts_filt = counts[,c(1,3,4)]"
   ]
  },
  {
   "cell_type": "code",
   "execution_count": 7,
   "metadata": {},
   "outputs": [
    {
     "data": {
      "image/png": "[encoded data removed]",
      "text/plain": [
       "plot without title"
      ]
     },
     "metadata": {
      "image/png": {
       "height": 420,
       "width": 420
      }
     },
     "output_type": "display_data"
    }
   ],
   "source": [
    "ggplot(data = counts_filt) + \n",
    "  geom_point(mapping = aes(x = Control_78_Day_0_Rep3, y = Control_78_Day_0_Rep4))"
   ]
  },
  {
   "cell_type": "markdown",
   "metadata": {},
   "source": [
    "## Perform PCA analysis"
   ]
  },
  {
   "cell_type": "markdown",
   "metadata": {},
   "source": [
    "[Excellent explanation of principal component analysis](https://www.youtube.com/watch?v=HMOI_lkzW08&t=1s)"
   ]
  }
 ],
 "metadata": {
  "kernelspec": {
   "display_name": "R",
   "language": "R",
   "name": "ir"
  },
  "language_info": {
   "codemirror_mode": "r",
   "file_extension": ".r",
   "mimetype": "text/x-r-source",
   "name": "R",
   "pygments_lexer": "r",
   "version": "4.1.0"
  }
 },
 "nbformat": 4,
 "nbformat_minor": 4
}
