{
 "cells": [
  {
   "cell_type": "code",
   "execution_count": 2,
   "id": "d017a335-2b29-4c73-8271-87d6755a6b42",
   "metadata": {},
   "outputs": [
    {
     "name": "stderr",
     "output_type": "stream",
     "text": [
      "<frozen importlib._bootstrap>:219: RuntimeWarning: scipy._lib.messagestream.MessageStream size changed, may indicate binary incompatibility. Expected 56 from C header, got 64 from PyObject\n"
     ]
    }
   ],
   "source": [
    "import warnings\n",
    "import pandas as pd\n",
    "import scanpy as sc\n",
    "import numpy as np\n",
    "import scrublet as scr\n",
    "import matplotlib.pyplot as plt\n",
    "import seaborn as sns\n",
    "import anndata as ad"
   ]
  },
  {
   "cell_type": "markdown",
   "id": "da117c50-6a89-4233-b23e-f25c7268f4d4",
   "metadata": {},
   "source": [
    "# Construct AnnData object from sparse matrix, cell barcode list, and gene list\n",
    "\n",
    "The AnnData object is a widely used data structure in single-cell genomics analysis, provided by the Python package anndata. It serves as a container for high-dimensional single-cell data, such as gene expression from sc/snRNA-seq. The AnnData object encapsulates the data matrix along with various annotations and metadata associated with the cells and features (genes). Here's an overview of the structure of an AnnData object:\n",
    "\n",
    "**Data Matrix**: The primary component of an AnnData object is a two-dimensional data matrix. It represents the expression values of genes (features) across individual cells. By convention, the matrix is stored as a dense or sparse matrix object, depending on the size and sparsity of the data. The matrix typically has cells as rows and genes as columns.\n",
    "\n",
    "**Observations**: Each row of the data matrix corresponds to an individual cell (aka observation). The AnnData object stores various properties or annotations associated with each cell, for example the cell's barcode, the type of the cell, or sample information associated with the sample the cell came from. These annotations are typically stored as a pandas DataFrame, where each row corresponds to a cell and each column represents a specific annotation.\n",
    "\n",
    "**Variables**: Each column of the data matrix corresponds to a gene (aka variable). The AnnData object also stores various properties or annotations associated with each feature. For example, it can include gene names, gene IDs, and gene type. Similar to cell annotations, feature annotations are stored as a pandas DataFrame, where each row corresponds to a gene and each column represents a specific annotation.\n",
    "\n",
    "See [anndata documentation](https://anndata.readthedocs.io/en/latest/) for more details.\n"
   ]
  },
  {
   "cell_type": "code",
   "execution_count": 3,
   "id": "7d6e0aad-8d7f-4862-b30c-a0fc0d1efa47",
   "metadata": {},
   "outputs": [],
   "source": [
    "# the directory containing the data\n",
    "path = \"/data/class/cosmos2023/PUBLIC/shai_hulud/scanpy/\""
   ]
  },
  {
   "cell_type": "markdown",
   "id": "2161c394-36c8-412b-879b-77fd37001946",
   "metadata": {},
   "source": [
    "# Sample 1"
   ]
  },
  {
   "cell_type": "code",
   "execution_count": 4,
   "id": "309765c6-d2ca-4580-977a-a9acee1e3f30",
   "metadata": {},
   "outputs": [],
   "source": [
    "sample = 'Gastroc'"
   ]
  },
  {
   "cell_type": "code",
   "execution_count": 5,
   "id": "da843d29-9f1c-4ae7-b4b0-4f51d1083434",
   "metadata": {},
   "outputs": [],
   "source": [
    "# Load sparse matrix from file\n",
    "mtx = sc.read_mtx(path + sample + '_matrix.mtx').T"
   ]
  },
  {
   "cell_type": "code",
   "execution_count": 6,
   "id": "d3f02e75-6b5f-4ff2-b22c-7fd18d982a01",
   "metadata": {},
   "outputs": [],
   "source": [
    "# Load gene IDs or names from CSV file\n",
    "var = pd.read_csv(path + sample + '_var.csv')\n",
    "\n",
    "# Load observations from CSV file\n",
    "obs = pd.read_csv(path + sample + '_obs.csv')"
   ]
  },
  {
   "cell_type": "code",
   "execution_count": 7,
   "id": "8cd7039b-072a-4e1a-9358-46a6f4e54831",
   "metadata": {},
   "outputs": [],
   "source": [
    "mtx.obs = obs\n",
    "mtx.var = var"
   ]
  },
  {
   "cell_type": "code",
   "execution_count": 8,
   "id": "4194a8d9-3d08-4670-992e-569b3d99c3de",
   "metadata": {},
   "outputs": [
    {
     "name": "stderr",
     "output_type": "stream",
     "text": [
      "/opt/apps/python/3.8.0/lib/python3.8/site-packages/anndata/_core/anndata.py:121: ImplicitModificationWarning: Transforming to str index.\n",
      "  warnings.warn(\"Transforming to str index.\", ImplicitModificationWarning)\n",
      "/opt/apps/python/3.8.0/lib/python3.8/site-packages/anndata/_core/anndata.py:121: ImplicitModificationWarning: Transforming to str index.\n",
      "  warnings.warn(\"Transforming to str index.\", ImplicitModificationWarning)\n"
     ]
    }
   ],
   "source": [
    "adata1 = ad.AnnData(X=mtx.X, var=var, obs=obs)"
   ]
  },
  {
   "cell_type": "code",
   "execution_count": 10,
   "id": "a79005c4-f75a-4b85-acf3-8bdc34430009",
   "metadata": {},
   "outputs": [],
   "source": [
    "adata1.obs.index = adata1.obs['cellID']"
   ]
  },
  {
   "cell_type": "code",
   "execution_count": 13,
   "id": "332de234-ad55-4ca6-a37d-0ae5ec5b4298",
   "metadata": {},
   "outputs": [],
   "source": [
    "adata1.var_names = adata1.var['gene_name'] \n",
    "adata1.var_names_make_unique()"
   ]
  },
  {
   "cell_type": "markdown",
   "id": "263b51b7-efec-4302-a2f9-6cbe07e34a1e",
   "metadata": {},
   "source": [
    "# Save"
   ]
  },
  {
   "cell_type": "code",
   "execution_count": 14,
   "id": "6ebae823-d27f-4ac7-9fa4-dafbec2c5964",
   "metadata": {},
   "outputs": [
    {
     "data": {
      "text/plain": [
       "AnnData object with n_obs × n_vars = 7542 × 47707\n",
       "    obs: 'orig.ident', 'nCount_RNA', 'nFeature_RNA', 'X', 'barcode', 'depth1', 'sublibrary', 'sample', 'cellID', 'sublibrary_sample', 'doublet_scores', 'Sample', 'TSSEnrichment', 'ReadsInTSS', 'ReadsInPromoter', 'ReadsInBlacklist', 'PromoterRatio', 'PassQC', 'NucleosomeRatio', 'nMultiFrags', 'nMonoFrags', 'nFrags', 'nDiFrags', 'BlacklistRatio', 'original_atac_bc', 'atac_bc', 'rna_bc', 'DoubletScore', 'DoubletEnrichment', 'archr_cellID', 'batch', 'depth2', 'experiment_accession', 'file_accession', 'genotype', 'library_accession', 'lower_nCount_RNA', 'lower_nFeature_RNA', 'rep', 'run_number', 'sex', 'technology', 'timepoint', 'tissue', 'upper_doublet_scores', 'upper_nCount_RNA', 'upper_percent.mt', 'percent.mt', 'percent.ribo', 'nCount_SCT', 'nFeature_SCT', 'integrated_snn_res.0.8', 'seurat_clusters', 'S.Score', 'G2M.Score', 'Phase', 'predicted.id', 'prediction.score.Type.IIb.Myonuclei', 'prediction.score.Type.IIx.Myonuclei', 'prediction.score.FAPs', 'prediction.score.Smooth.Muscle', 'prediction.score.Musculotendinous.Junction', 'prediction.score.Satellite.Cells', 'prediction.score.Neuromuscular.Junction', 'prediction.score.Endothelial.Cells', 'prediction.score.Immune.Cells', 'prediction.score.Subcutaneous.Fat', 'prediction.score.max', 'predictions_5mo', 'prediction.score.Immature.Myonuclei.Nos.', 'prediction.score.Immature.Myonuclei.Enah.', 'prediction.score.Mkx.', 'prediction.score.Schwann.Cells', 'predictions_pnd21', 'integrated_snn_res.2', 'Adipocyte_score', 'Endothelial_score', 'Tenocyte_score', 'Lymphoid_score', 'B_cell_score', 'T_cell_score', 'Macrophage_score', 'FAP_score', 'Myonuclei_score', 'Type2X_myonuclei_score', 'Type2A_myonuclei_score', 'Type2B_myonuclei_score', 'Type1_score', 'NMJ_score', 'MTJ_score', 'Satellite_score', 'Schwann_score', 'Smooth_muscle_score', 'celltypes', 'prediction.score.Type2B', 'prediction.score.Type2X', 'prediction.score.Satellite', 'prediction.score.FAP', 'prediction.score.Endothelial', 'prediction.score.Schwann_cells', 'prediction.score.Tenocytes', 'prediction.score.Type1', 'prediction.score.Smooth_muscle', 'prediction.score.MTJ', 'prediction.score.NMJ', 'prediction.score.Macrophages', 'prediction.score.Perinatal', 'prediction.score.Type2A', 'prediction.score.Adipocytes', 'encode_predictions', 'sub.cluster', 'subtypes', 'gen_celltype', 'submission_celltype', 'cell_type_mnemonic', 'CL_ID_annotation', 'synapse', 'tissue_mnemonic', 'rna_experiment_accession', 'max_topic'\n",
       "    var: 'gene_name'"
      ]
     },
     "execution_count": 14,
     "metadata": {},
     "output_type": "execute_result"
    }
   ],
   "source": [
    "adata1"
   ]
  },
  {
   "cell_type": "code",
   "execution_count": 15,
   "id": "3d5630f7-63d0-490f-9628-1c6499048e5c",
   "metadata": {},
   "outputs": [],
   "source": [
    "#sc.pp.filter_cells(adata, min_counts=500)"
   ]
  },
  {
   "cell_type": "code",
   "execution_count": 16,
   "id": "58daf4e7-e4b8-45d3-bc6a-2e25dc498141",
   "metadata": {},
   "outputs": [],
   "source": [
    "adata1.write_h5ad(\"/data/class/cosmos2023/PUBLIC/shai_hulud/scanpy/gastroc_adata.h5ad\")\n"
   ]
  },
  {
   "cell_type": "code",
   "execution_count": null,
   "id": "6c84a45d-134b-404f-94f8-1e55c02d2989",
   "metadata": {},
   "outputs": [],
   "source": []
  }
 ],
 "metadata": {
  "kernelspec": {
   "display_name": "Python 3 (ipykernel)",
   "language": "python",
   "name": "python3"
  },
  "language_info": {
   "codemirror_mode": {
    "name": "ipython",
    "version": 3
   },
   "file_extension": ".py",
   "mimetype": "text/x-python",
   "name": "python",
   "nbconvert_exporter": "python",
   "pygments_lexer": "ipython3",
   "version": "3.8.0"
  }
 },
 "nbformat": 4,
 "nbformat_minor": 5
}
