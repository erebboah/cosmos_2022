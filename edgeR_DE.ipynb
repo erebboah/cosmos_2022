{
 "cells": [
  {
   "cell_type": "code",
   "execution_count": 1,
   "metadata": {},
   "outputs": [
    {
     "name": "stderr",
     "output_type": "stream",
     "text": [
      "Loading required package: limma\n",
      "\n"
     ]
    }
   ],
   "source": [
    "library(edgeR)\n",
    "library(stringr)"
   ]
  },
  {
   "cell_type": "code",
   "execution_count": 2,
   "metadata": {},
   "outputs": [],
   "source": [
    "counts = read.csv(\"data/fshd.counts.matrix.csv\")\n",
    "meta <- read.csv(\"data/fshd.metadata.csv\")\n",
    "\n",
    "# reformat data frame to be a numerical matrix (same as before)\n",
    "mat = counts[,c(3:ncol(counts))] \n",
    "rownames(mat) = counts$Gene_ID"
   ]
  },
  {
   "cell_type": "code",
   "execution_count": 3,
   "metadata": {},
   "outputs": [],
   "source": [
    "# custom function\n",
    "glm_test = function(mat, meta, comparison){\n",
    "\n",
    "# Make groups to compare\n",
    "group <- factor(str_sub(meta$Sample, end=-6))\n",
    "\n",
    "# read count matrix into DGEList\n",
    "y=DGEList(counts=mat, group=group)\n",
    "\n",
    "# Filter lowly expressed genes\n",
    "keep <- filterByExpr(y)\n",
    "y <- y[keep, , keep.lib.sizes=FALSE]\n",
    "y <- calcNormFactors(y)\n",
    "\n",
    "# indicate reps with design matrix\n",
    "design = model.matrix(~0+group, data=y$samples)\n",
    "colnames(design) = levels(y$samples$group)\n",
    "\n",
    "# fit data to generalized linear model\n",
    "y=estimateCommonDisp(y)\n",
    "y=estimateTagwiseDisp(y)\n",
    "fit = glmQLFit(y, design)\n",
    "\n",
    "# differential expression test\n",
    "Contrast <- makeContrasts(contrasts= comparison, levels=design)\n",
    "qlf <- glmQLFTest(fit, contrast=Contrast)\n",
    "\n",
    "# Get results\n",
    "table = qlf$table\n",
    "table$Gene_ID = rownames(table)\n",
    "return(table)\n",
    "}"
   ]
  },
  {
   "cell_type": "code",
   "execution_count": 4,
   "metadata": {},
   "outputs": [],
   "source": [
    "table = glm_test(mat,meta,\"Control_78_Day_3-Control_78_Day_0\")\n"
   ]
  },
  {
   "cell_type": "code",
   "execution_count": 5,
   "metadata": {},
   "outputs": [],
   "source": [
    "write.csv(table,file=\"results/control_day0_day3_de_results.csv\",row.names=F)"
   ]
  }
 ],
 "metadata": {
  "kernelspec": {
   "display_name": "R",
   "language": "R",
   "name": "ir"
  },
  "language_info": {
   "codemirror_mode": "r",
   "file_extension": ".r",
   "mimetype": "text/x-r-source",
   "name": "R",
   "pygments_lexer": "r",
   "version": "4.1.2"
  }
 },
 "nbformat": 4,
 "nbformat_minor": 4
}
