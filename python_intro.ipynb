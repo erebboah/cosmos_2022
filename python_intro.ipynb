{
 "cells": [
  {
   "cell_type": "markdown",
   "id": "93b9cc85-9ea8-4ad9-93ba-8f8c3359d4c2",
   "metadata": {},
   "source": [
    "# Bulk long read RNA-seq analysis with Python"
   ]
  },
  {
   "cell_type": "markdown",
   "id": "7701315a-6d40-44f7-8bce-63c9a38b58e5",
   "metadata": {},
   "source": [
    "## Load libraries"
   ]
  },
  {
   "cell_type": "code",
   "execution_count": 1,
   "id": "b2039baa-f6c2-4413-b859-722399b52446",
   "metadata": {},
   "outputs": [],
   "source": [
    "import swan_vis as swan\n",
    "import pandas as pd\n",
    "import scanpy as sc\n",
    "import seaborn as sns\n",
    "import matplotlib.pyplot as plt"
   ]
  },
  {
   "cell_type": "markdown",
   "id": "52b3c069-13e5-47e1-87fc-4ba0c932c531",
   "metadata": {},
   "source": [
    "## Load data into Python\n",
    "We have data from C2C12 myoblasts and 3-day differerntiated myotubes. Bulk long-read RNA-seq was performed using polyA primers and PacBio sequencing. To quantify transcript expression, reads were mapped to the mouse genome using Minimap2, then the reads were cleaned and processed with TranscriptClean and [TALON](https://github.com/mortazavilab/TALON). \n",
    "\n",
    "We will use [Swan](https://freese.gitbook.io/swan/) to analyze and visualize the C2C12 long-read transcriptome."
   ]
  },
  {
   "cell_type": "markdown",
   "id": "407be957-f819-4eae-9dbd-92cb6e63fefc",
   "metadata": {
    "tags": []
   },
   "source": [
    "## Initialize a new SwanGraph\n"
   ]
  },
  {
   "cell_type": "code",
   "execution_count": null,
   "id": "e603b82d-5fd3-46d2-8ce3-77fa6273f529",
   "metadata": {},
   "outputs": [],
   "source": [
    "sg = swan.SwanGraph()"
   ]
  },
  {
   "cell_type": "code",
   "execution_count": null,
   "id": "76f55cf5-9ac4-449b-b7dc-e5fcd9094493",
   "metadata": {
    "tags": []
   },
   "outputs": [],
   "source": [
    "annot_gtf = 'data/gencode.vM21.primary_assembly.annotation_UCSC_names.gtf'\n",
    "data_gtf = 'data/all_talon_observedOnly.gtf'\n",
    "ab_file = 'data/all_talon_abundance_filtered.tsv'\n",
    "talon_db = 'data/talon.db'\n",
    "pass_list = 'data/all_pass_list.csv'\n",
    "meta = 'data/metadata.tsv'"
   ]
  },
  {
   "cell_type": "markdown",
   "id": "eba87b3b-7334-48b6-bda3-2ada59ef36b0",
   "metadata": {},
   "source": [
    "## Adding a reference transcriptome"
   ]
  },
  {
   "cell_type": "code",
   "execution_count": null,
   "id": "2ed6e753-3bd6-4eb6-beb4-7826da97c32f",
   "metadata": {},
   "outputs": [],
   "source": [
    "# add an annotation transcriptome\n",
    "sg.add_annotation(annot_gtf)"
   ]
  },
  {
   "cell_type": "markdown",
   "id": "e0a04798-490a-4ca2-a32e-813ab091f0fc",
   "metadata": {},
   "source": [
    "## Adding transcript models from a TALON database"
   ]
  },
  {
   "cell_type": "code",
   "execution_count": null,
   "id": "5bb720a4-de7b-4ec3-8802-16d8df5d0086",
   "metadata": {},
   "outputs": [],
   "source": [
    "# add a dataset's transcriptome and abundance information to\n",
    "# the SwanGraph\n",
    "sg.add_transcriptome(talon_db, pass_list=pass_list)"
   ]
  },
  {
   "cell_type": "markdown",
   "id": "21585b85-0f48-4984-8262-48ecd85e1ce9",
   "metadata": {},
   "source": [
    "## Adding datasets and their abundance\n"
   ]
  },
  {
   "cell_type": "code",
   "execution_count": null,
   "id": "6b25193b-8293-47a6-b4cb-f698cc1a5811",
   "metadata": {},
   "outputs": [],
   "source": [
    "# add each dataset's abundance information to the SwanGraph\n",
    "sg.add_abundance(ab_file)"
   ]
  },
  {
   "cell_type": "markdown",
   "id": "77b6a8c7-0e7f-4240-9525-317e4a88a04a",
   "metadata": {},
   "source": [
    "## Saving and loading your SwanGraph"
   ]
  },
  {
   "cell_type": "code",
   "execution_count": null,
   "id": "3b93dca0-da6b-4c58-8c52-c43aa9658e61",
   "metadata": {},
   "outputs": [],
   "source": [
    "# save the SwanGraph as a Python pickle file\n",
    "sg.save_graph('swan')"
   ]
  },
  {
   "cell_type": "code",
   "execution_count": null,
   "id": "55be14e9-d0c8-416e-b14e-b6b2ee122f93",
   "metadata": {},
   "outputs": [],
   "source": [
    "# load up a saved SwanGraph from a pickle file\n",
    "sg = swan.read('swan.p')"
   ]
  },
  {
   "cell_type": "markdown",
   "id": "fc6fd8b6-faaa-4692-8243-8cc9d8adce19",
   "metadata": {},
   "source": [
    "## Adding metadata"
   ]
  },
  {
   "cell_type": "code",
   "execution_count": null,
   "id": "a78e6205-7d42-4e23-aa66-efc807690970",
   "metadata": {},
   "outputs": [],
   "source": [
    "sg.add_metadata(meta)"
   ]
  },
  {
   "cell_type": "code",
   "execution_count": null,
   "id": "7eb87551-b0a2-439a-9079-ec8d962dee5a",
   "metadata": {},
   "outputs": [],
   "source": []
  },
  {
   "cell_type": "code",
   "execution_count": null,
   "id": "0e5c4130-e35f-4991-b700-16f2dfbf0b67",
   "metadata": {},
   "outputs": [],
   "source": []
  }
 ],
 "metadata": {
  "kernelspec": {
   "display_name": "Python 3 (ipykernel)",
   "language": "python",
   "name": "python3"
  },
  "language_info": {
   "codemirror_mode": {
    "name": "ipython",
    "version": 3
   },
   "file_extension": ".py",
   "mimetype": "text/x-python",
   "name": "python",
   "nbconvert_exporter": "python",
   "pygments_lexer": "ipython3",
   "version": "3.8.0"
  }
 },
 "nbformat": 4,
 "nbformat_minor": 5
}
