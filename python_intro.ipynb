{
 "cells": [
  {
   "cell_type": "code",
   "execution_count": 3,
   "id": "b01e95e5-7c83-4920-b4b5-953ddaa613c0",
   "metadata": {},
   "outputs": [],
   "source": [
    "import swan_vis as swan\n",
    "import pandas as pd\n",
    "import scanpy as sc\n",
    "import seaborn as sns\n",
    "import matplotlib.pyplot as plt"
   ]
  },
  {
   "cell_type": "markdown",
   "id": "2809dd91-6543-405f-890c-70caab6db703",
   "metadata": {},
   "source": [
    "## Load SwanGraph into Python\n",
    "We have a SwanGraph object constructed from C2C12 myoblasts and 3-day differentiated myotubes. Bulk long-read RNA-seq was performed using polyA primers and PacBio sequencing. To quantify transcript expression, reads were mapped to the mouse genome using Minimap2, then the reads were cleaned and processed with TranscriptClean and [TALON](https://github.com/mortazavilab/TALON). \n",
    "\n",
    "We will use [Swan](https://freese.gitbook.io/swan/) to analyze and visualize the C2C12 long-read transcriptome."
   ]
  },
  {
   "cell_type": "code",
   "execution_count": 4,
   "id": "b9d8d5f9-7829-4f9a-9705-4ce202f09640",
   "metadata": {},
   "outputs": [
    {
     "name": "stdout",
     "output_type": "stream",
     "text": [
      "Read in graph from data/swan.p\n"
     ]
    }
   ],
   "source": [
    "# load up a saved SwanGraph from a pickle file\n",
    "sg = swan.read('data/swan.p')"
   ]
  },
  {
   "cell_type": "code",
   "execution_count": null,
   "id": "d7b33e60-3c8e-4c4c-bf5e-67eacda6e6d5",
   "metadata": {},
   "outputs": [],
   "source": []
  }
 ],
 "metadata": {
  "kernelspec": {
   "display_name": "Python 3 (ipykernel)",
   "language": "python",
   "name": "python3"
  },
  "language_info": {
   "codemirror_mode": {
    "name": "ipython",
    "version": 3
   },
   "file_extension": ".py",
   "mimetype": "text/x-python",
   "name": "python",
   "nbconvert_exporter": "python",
   "pygments_lexer": "ipython3",
   "version": "3.8.0"
  }
 },
 "nbformat": 4,
 "nbformat_minor": 5
}
